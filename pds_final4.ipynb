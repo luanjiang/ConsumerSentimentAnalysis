{
 "cells": [
  {
   "cell_type": "markdown",
   "metadata": {},
   "source": [
    "# Consumer Sentiment Analysis of Online Reviews"
   ]
  },
  {
   "cell_type": "markdown",
   "metadata": {},
   "source": [
    "Consumer reviews can be integral for manufacturers to identify unanticipated shortcomings in their products. To this end, our project centers around text analytics of consumer reviews. We will be using a set of consumer reviews from the product review website Epinions.com. We aim to understand consumer sentiment on cameras and gain business insights on marketing strategies. Our data has labels indicating consumer sentiment (recommend product or not recommend product). So our task is to develop the best combination of featurization, feature selection, and classification algorithm to achieve the highest predictive accuracy. \n",
    "\n",
    "In the end, we would like establish the best model for our task, find a set of features with the highest discriminative value in predicting the consumers’ recommendations, and identify a few prevailing characteristics that are associated with the product and a certain sentiment. "
   ]
  },
  {
   "cell_type": "markdown",
   "metadata": {},
   "source": [
    "* [Data Preparation](#prep)\n",
    "\n",
    "* [Featurization Process](#token)\n",
    "\n",
    "* [Testing Classification Models using Cross Validation](#modeling)\n",
    "\n",
    "* [Result Analysis](#result)\n",
    "\n",
    "* [Insights](#insight)\n"
   ]
  },
  {
   "cell_type": "markdown",
   "metadata": {},
   "source": [
    "<a id='prep'></a>\n",
    "# Data Preparation"
   ]
  },
  {
   "cell_type": "code",
   "execution_count": 1,
   "metadata": {
    "collapsed": false
   },
   "outputs": [
    {
     "name": "stdout",
     "output_type": "stream",
     "text": [
      "[nltk_data] Downloading package stopwords to\n",
      "[nltk_data]     C:\\Users\\Chris\\AppData\\Roaming\\nltk_data...\n",
      "[nltk_data]   Package stopwords is already up-to-date!\n",
      "[nltk_data] Downloading package wordnet to\n",
      "[nltk_data]     C:\\Users\\Chris\\AppData\\Roaming\\nltk_data...\n",
      "[nltk_data]   Package wordnet is already up-to-date!\n"
     ]
    },
    {
     "data": {
      "text/plain": [
       "True"
      ]
     },
     "execution_count": 1,
     "metadata": {},
     "output_type": "execute_result"
    }
   ],
   "source": [
    "import plotly.plotly as py\n",
    "import plotly.graph_objs as go\n",
    "import plotly.tools as tls\n",
    "tls.set_credentials_file(username='luanj', api_key='7fa014kl76')\n",
    "import numpy as np\n",
    "import sklearn\n",
    "import nltk\n",
    "import string\n",
    "import csv\n",
    "from collections import Counter\n",
    "import pandas as pd\n",
    "nltk.download('stopwords')\n",
    "nltk.download('wordnet')"
   ]
  },
  {
   "cell_type": "code",
   "execution_count": 113,
   "metadata": {
    "collapsed": false
   },
   "outputs": [],
   "source": [
    "from sklearn.feature_extraction.text import TfidfVectorizer\n",
    "from sklearn.feature_extraction.text import CountVectorizer\n",
    "from sklearn.linear_model import OrthogonalMatchingPursuit\n",
    "from sklearn.linear_model import LogisticRegression\n",
    "from sklearn.svm import SVC\n",
    "from sklearn.naive_bayes import MultinomialNB\n",
    "from sklearn.neighbors import KNeighborsClassifier \n",
    "from sklearn.metrics import confusion_matrix\n",
    "import matplotlib.pyplot as plt\n",
    "%matplotlib inline\n",
    "from wordcloud import WordCloud"
   ]
  },
  {
   "cell_type": "markdown",
   "metadata": {},
   "source": [
    "Our dataset consists of 12,000 reviews from epinions.com. 6,000 of them are about automobiles, we will focus on the 6,000 reviews about digital cameras.\n",
    "\n",
    "The original data contains tags to represent different fields of a review. $<Class>$ tag shows the type of Product such as Camera or Auto. $<Product>$ tag shows brand of the product along with Model specifications. $<Label>$ tag tells us whether the user recommends the product or not. $<Rating>$ tag gives us information on the rating the consumer gives for a certain model of a product ranging from 1 to 5. $<Text>$ tag contains the assessment and evaluation of the reviewer for a product."
   ]
  },
  {
   "cell_type": "markdown",
   "metadata": {},
   "source": [
    "First we parse out each review from the html text file and place them into a dataframe. An example review still in html form is outputted below."
   ]
  },
  {
   "cell_type": "code",
   "execution_count": 3,
   "metadata": {
    "collapsed": false
   },
   "outputs": [
    {
     "name": "stdout",
     "output_type": "stream",
     "text": [
      "Number of reviews:  12001\n",
      "Sample review:  \n",
      "<DOCID> 36 </DOCID>\n",
      "<PRODUCT> Digital_Cameras/Casio_QV_4000_4_0_Megapixel_Digital_Camera_EX_Plus_Outfit__Camera_QV4000EXK </PRODUCT>\n",
      "<label> Yes\n",
      "<rating>  5.0\n",
      "<URL> http://www.epinions.com/content_66677280388 </URL>\n",
      "<CLASS> Camera </CLASS>\n",
      "<TEXT>\n",
      "            I stumbled upon this camera after much research.  It's hard to understand why this camera is so hard to find; when every pro review site has given it very high marks.  I was considering the Minolta Dimage S404, Canon G2, Canon S40, Olympus D-40, Pentax Optio 430 before I discovered the Casio.  All of these camera's received good reviews, but only the Canon G2 was higher than the Casio.  However, the casio uses the exact same lens as the Canon G2.  The Casio is a great camera.  When you first take it out of the box, you realize that the camera is built very well.  Everything is laid out nicely.  It comes with a neck strap that is very comfortable.  I have used a 2.1 mgpxl camera for the last year and a half.  It was a good camera, but seemed to always be in the camera bag when I wanted to take a picture.  On our last trip to Disneyland, I missed a lot of good shots.  This camera has an excellent lens (all glass) and quality CCD (Sony).  Together they produce great pictures.  I have three children, the youngest is 7 weeks.  I took a close-up of the youngest and printed an 8x10 to see how it would look (using a HP Photosmart P1000).  It was astonishing.  I could not see any pixelation what-so-ever.  Without a magnifying glass, there is no way you could tell it was digital.  With the 4.1 megapixels, you can reduce the size of the files, and still have a very high quality output for e-mailing.  This camera also has a ton of manual options that give you great control of your pictures.  Most of the manual settings are accessed with dial controls, not through the menu.  This is a plus. This camera also uses NiMH batteries.  This is great because you will always have batteries ready to go.  One pro review site rated this camera as one of the best they'd ever seen for battery life.  They said they had no idea how Casio achieved this, but were glad they did.  The memory type is very versatile as well.  You can use Compact Flash type I and II, as well as a Microdrive (up to 1 gig).  You will never run out of memory options here.  The camera also has a very informative LCD, threaded lens, and external flash option.  The camera looks good, feels good, and takes great pictures.  Factor in the relatively low cost, and you have yourself a fun piece of equipment.  I knew when I bought the 2.1 mgpxl camera it would be replaced quickly.  However, I know this camera will be around for a long time.    \n",
      "            \n",
      "\n",
      "</DOC>\n",
      "\n"
     ]
    }
   ],
   "source": [
    "with open (\"text.txt\", \"r\") as myfile:\n",
    "    data=myfile.read().decode('utf8', 'ignore')\n",
    "    \n",
    "columns = ['docid', 'product', 'label', 'rating', 'pc_class', 'text']\n",
    "rows = list()\n",
    "\n",
    "items = data.split(\"<DOC>\")\n",
    "print 'Number of reviews: ', len(items)\n",
    "print 'Sample review: ', items[1]\n",
    "#print type(items[0])\n",
    "count = 0\n",
    "verbose = False\n",
    "for i in range(1,len(items)):\n",
    "    split1 = items[i].split()\n",
    "    #print split\n",
    "    #print split1[0]\n",
    "    #print split1[1]\n",
    "    docid = split1[1]\n",
    "    split2 = items[i].split(\"<PRODUCT>\")\n",
    "    product = split2[1].split(\"</\")[0]\n",
    "    split3 = items[i].split(\"<label>\")\n",
    "    label = split3[1].split(\"\\n\")[0]\n",
    "    split4 = items[i].split(\"<rating>\")\n",
    "    rating = split4[1].split(\"\\n\")[0]\n",
    "    split5 = items[i].split(\"<CLASS>\")\n",
    "    pc_class = split5[1].split(\"</CLASS\")[0]\n",
    "    split6 = items[i].split(\"<TEXT>\")\n",
    "    text = split6[1].split(\"</DOC\")[0]\n",
    "    row = [docid, product, label, rating, pc_class, text]\n",
    "    rows.append(row)\n",
    "    count += 1\n",
    "    if verbose:\n",
    "        if count%250==0:\n",
    "            print count\n",
    "\n",
    "df = pd.DataFrame(rows, columns = columns)\n",
    "df.to_csv(\"parsed.csv\", index=False)\n"
   ]
  },
  {
   "cell_type": "markdown",
   "metadata": {},
   "source": [
    "Now we do a little housekeeping with our data to manage data types and subset to our appropriate area of focus."
   ]
  },
  {
   "cell_type": "code",
   "execution_count": 4,
   "metadata": {
    "collapsed": false
   },
   "outputs": [
    {
     "name": "stdout",
     "output_type": "stream",
     "text": [
      "docid        object\n",
      "product      object\n",
      "label        object\n",
      "rating      float64\n",
      "pc_class     object\n",
      "text         object\n",
      "dtype: object\n"
     ]
    },
    {
     "data": {
      "text/html": [
       "<div>\n",
       "<table border=\"1\" class=\"dataframe\">\n",
       "  <thead>\n",
       "    <tr style=\"text-align: right;\">\n",
       "      <th></th>\n",
       "      <th>docid</th>\n",
       "      <th>product</th>\n",
       "      <th>label</th>\n",
       "      <th>rating</th>\n",
       "      <th>pc_class</th>\n",
       "      <th>text</th>\n",
       "    </tr>\n",
       "  </thead>\n",
       "  <tbody>\n",
       "    <tr>\n",
       "      <th>0</th>\n",
       "      <td>36</td>\n",
       "      <td>Digital_Cameras/Casio_QV_4000_4_0_Megapixel_D...</td>\n",
       "      <td>Yes</td>\n",
       "      <td>5.0</td>\n",
       "      <td>Camera</td>\n",
       "      <td>\\n            I stumbled upon this camera afte...</td>\n",
       "    </tr>\n",
       "    <tr>\n",
       "      <th>1</th>\n",
       "      <td>107</td>\n",
       "      <td>Digital_Cameras/pr-Fuji_Finepix_MX-1200_Digit...</td>\n",
       "      <td>Yes</td>\n",
       "      <td>4.0</td>\n",
       "      <td>Camera</td>\n",
       "      <td>\\n            [NOTE: I have the Japanese versi...</td>\n",
       "    </tr>\n",
       "    <tr>\n",
       "      <th>2</th>\n",
       "      <td>108</td>\n",
       "      <td>Digital_Cameras/pr-Fuji_Finepix_MX-1200_Digit...</td>\n",
       "      <td>Yes</td>\n",
       "      <td>4.0</td>\n",
       "      <td>Camera</td>\n",
       "      <td>\\n            Ah, finally, A great little came...</td>\n",
       "    </tr>\n",
       "    <tr>\n",
       "      <th>3</th>\n",
       "      <td>109</td>\n",
       "      <td>Digital_Cameras/pr-Fuji_Finepix_MX-1200_Digit...</td>\n",
       "      <td>Yes</td>\n",
       "      <td>5.0</td>\n",
       "      <td>Camera</td>\n",
       "      <td>\\n            Okay, I've written three negativ...</td>\n",
       "    </tr>\n",
       "    <tr>\n",
       "      <th>4</th>\n",
       "      <td>110</td>\n",
       "      <td>Digital_Cameras/pr-Fuji_Finepix_MX-1200_Digit...</td>\n",
       "      <td>No</td>\n",
       "      <td>2.0</td>\n",
       "      <td>Camera</td>\n",
       "      <td>\\n            \\nThis camera is a great deal.  ...</td>\n",
       "    </tr>\n",
       "  </tbody>\n",
       "</table>\n",
       "</div>"
      ],
      "text/plain": [
       "  docid                                            product label  rating  \\\n",
       "0    36   Digital_Cameras/Casio_QV_4000_4_0_Megapixel_D...   Yes     5.0   \n",
       "1   107   Digital_Cameras/pr-Fuji_Finepix_MX-1200_Digit...   Yes     4.0   \n",
       "2   108   Digital_Cameras/pr-Fuji_Finepix_MX-1200_Digit...   Yes     4.0   \n",
       "3   109   Digital_Cameras/pr-Fuji_Finepix_MX-1200_Digit...   Yes     5.0   \n",
       "4   110   Digital_Cameras/pr-Fuji_Finepix_MX-1200_Digit...    No     2.0   \n",
       "\n",
       "   pc_class                                               text  \n",
       "0   Camera   \\n            I stumbled upon this camera afte...  \n",
       "1   Camera   \\n            [NOTE: I have the Japanese versi...  \n",
       "2   Camera   \\n            Ah, finally, A great little came...  \n",
       "3   Camera   \\n            Okay, I've written three negativ...  \n",
       "4   Camera   \\n            \\nThis camera is a great deal.  ...  "
      ]
     },
     "execution_count": 4,
     "metadata": {},
     "output_type": "execute_result"
    }
   ],
   "source": [
    "df['rating'] = df['rating'].astype(float)\n",
    "print df.dtypes\n",
    "df.head()"
   ]
  },
  {
   "cell_type": "code",
   "execution_count": 5,
   "metadata": {
    "collapsed": false
   },
   "outputs": [
    {
     "name": "stdout",
     "output_type": "stream",
     "text": [
      "set([u' Auto ', u' Camera '])\n"
     ]
    },
    {
     "data": {
      "text/html": [
       "<div>\n",
       "<table border=\"1\" class=\"dataframe\">\n",
       "  <thead>\n",
       "    <tr style=\"text-align: right;\">\n",
       "      <th></th>\n",
       "      <th>docid</th>\n",
       "      <th>product</th>\n",
       "      <th>label</th>\n",
       "      <th>rating</th>\n",
       "      <th>pc_class</th>\n",
       "      <th>text</th>\n",
       "    </tr>\n",
       "  </thead>\n",
       "  <tbody>\n",
       "    <tr>\n",
       "      <th>0</th>\n",
       "      <td>36</td>\n",
       "      <td>Digital_Cameras/Casio_QV_4000_4_0_Megapixel_D...</td>\n",
       "      <td>Yes</td>\n",
       "      <td>5.0</td>\n",
       "      <td>Camera</td>\n",
       "      <td>\\n            I stumbled upon this camera afte...</td>\n",
       "    </tr>\n",
       "    <tr>\n",
       "      <th>1</th>\n",
       "      <td>107</td>\n",
       "      <td>Digital_Cameras/pr-Fuji_Finepix_MX-1200_Digit...</td>\n",
       "      <td>Yes</td>\n",
       "      <td>4.0</td>\n",
       "      <td>Camera</td>\n",
       "      <td>\\n            [NOTE: I have the Japanese versi...</td>\n",
       "    </tr>\n",
       "    <tr>\n",
       "      <th>2</th>\n",
       "      <td>108</td>\n",
       "      <td>Digital_Cameras/pr-Fuji_Finepix_MX-1200_Digit...</td>\n",
       "      <td>Yes</td>\n",
       "      <td>4.0</td>\n",
       "      <td>Camera</td>\n",
       "      <td>\\n            Ah, finally, A great little came...</td>\n",
       "    </tr>\n",
       "    <tr>\n",
       "      <th>3</th>\n",
       "      <td>109</td>\n",
       "      <td>Digital_Cameras/pr-Fuji_Finepix_MX-1200_Digit...</td>\n",
       "      <td>Yes</td>\n",
       "      <td>5.0</td>\n",
       "      <td>Camera</td>\n",
       "      <td>\\n            Okay, I've written three negativ...</td>\n",
       "    </tr>\n",
       "    <tr>\n",
       "      <th>4</th>\n",
       "      <td>110</td>\n",
       "      <td>Digital_Cameras/pr-Fuji_Finepix_MX-1200_Digit...</td>\n",
       "      <td>No</td>\n",
       "      <td>2.0</td>\n",
       "      <td>Camera</td>\n",
       "      <td>\\n            \\nThis camera is a great deal.  ...</td>\n",
       "    </tr>\n",
       "  </tbody>\n",
       "</table>\n",
       "</div>"
      ],
      "text/plain": [
       "  docid                                            product label  rating  \\\n",
       "0    36   Digital_Cameras/Casio_QV_4000_4_0_Megapixel_D...   Yes     5.0   \n",
       "1   107   Digital_Cameras/pr-Fuji_Finepix_MX-1200_Digit...   Yes     4.0   \n",
       "2   108   Digital_Cameras/pr-Fuji_Finepix_MX-1200_Digit...   Yes     4.0   \n",
       "3   109   Digital_Cameras/pr-Fuji_Finepix_MX-1200_Digit...   Yes     5.0   \n",
       "4   110   Digital_Cameras/pr-Fuji_Finepix_MX-1200_Digit...    No     2.0   \n",
       "\n",
       "   pc_class                                               text  \n",
       "0   Camera   \\n            I stumbled upon this camera afte...  \n",
       "1   Camera   \\n            [NOTE: I have the Japanese versi...  \n",
       "2   Camera   \\n            Ah, finally, A great little came...  \n",
       "3   Camera   \\n            Okay, I've written three negativ...  \n",
       "4   Camera   \\n            \\nThis camera is a great deal.  ...  "
      ]
     },
     "execution_count": 5,
     "metadata": {},
     "output_type": "execute_result"
    }
   ],
   "source": [
    "#create the dataframe with only camera reviews\n",
    "print set(df['pc_class'].tolist())\n",
    "df_cameras = df.loc[df['pc_class']== ' Camera ']\n",
    "df_cameras.head()"
   ]
  },
  {
   "cell_type": "markdown",
   "metadata": {},
   "source": [
    "Unfortunately, there is not a tag the brand of each camera.  So we print out our product titles to determine brands present and subsequently label each product to one of the common brands we see or simply \"other\". "
   ]
  },
  {
   "cell_type": "code",
   "execution_count": 120,
   "metadata": {
    "collapsed": false
   },
   "outputs": [
    {
     "name": "stdout",
     "output_type": "stream",
     "text": [
      "set([u' Digital_Cameras/elec-Photo-Cameras-All-Canon_Powershot_G1 ', u' Digital_Cameras/Casio_QV_4000_4_0_Megapixel_Digital_Camera_EX_Plus_Outfit__Camera_QV4000EXK ', u' Digital_Cameras/pr-Fuji_Finepix_MX-1200_Digital_Camera '])\n"
     ]
    }
   ],
   "source": [
    "# some sample brands in our data\n",
    "print set(df_cameras['product'].tolist()[0:100])"
   ]
  },
  {
   "cell_type": "code",
   "execution_count": null,
   "metadata": {
    "collapsed": false
   },
   "outputs": [],
   "source": [
    "list_cam_brands = []\n",
    "for i in df_cameras['product'].tolist():\n",
    "    if 'Nikon' in i:\n",
    "        list_cam_brands.append('Nikon')\n",
    "    elif 'Sony' in i:\n",
    "        list_cam_brands.append('Sony')\n",
    "    elif 'Fuji' in i:\n",
    "        list_cam_brands.append('Fuji')\n",
    "    elif 'Olympus' in i:\n",
    "        list_cam_brands.append('Olympus')\n",
    "    elif 'Polaroid' in i:\n",
    "        list_cam_brands.append('Polaroid')\n",
    "    elif 'Kodak' in i:\n",
    "        list_cam_brands.append('Kodak')\n",
    "    else:\n",
    "        list_cam_brands.append('Other')"
   ]
  },
  {
   "cell_type": "markdown",
   "metadata": {},
   "source": [
    "How do the ratings vary across different brands? Below we explore the distribution of brands as well as the average review by brand. "
   ]
  },
  {
   "cell_type": "code",
   "execution_count": 8,
   "metadata": {
    "collapsed": false
   },
   "outputs": [
    {
     "name": "stdout",
     "output_type": "stream",
     "text": [
      "brand     rating\n",
      "Fuji      1.0         5\n",
      "          2.0        16\n",
      "          3.0        31\n",
      "          4.0       133\n",
      "          5.0       168\n",
      "Kodak     1.0        15\n",
      "          2.0        26\n",
      "          3.0        56\n",
      "          4.0       212\n",
      "          5.0       235\n",
      "Nikon     1.0        16\n",
      "          2.0        34\n",
      "          3.0        77\n",
      "          4.0       308\n",
      "          5.0       424\n",
      "Olympus   1.0         6\n",
      "          2.0        25\n",
      "          3.0        42\n",
      "          4.0       251\n",
      "          5.0       301\n",
      "Other     1.0       118\n",
      "          2.0       143\n",
      "          3.0       269\n",
      "          4.0       943\n",
      "          5.0       966\n",
      "Polaroid  1.0         6\n",
      "          2.0        11\n",
      "          3.0        25\n",
      "          4.0        71\n",
      "          5.0        66\n",
      "Sony      1.0        21\n",
      "          2.0        26\n",
      "          3.0        79\n",
      "          4.0       365\n",
      "          5.0       510\n",
      "dtype: int64\n"
     ]
    },
    {
     "name": "stderr",
     "output_type": "stream",
     "text": [
      "C:\\Anaconda2\\lib\\site-packages\\ipykernel\\__main__.py:1: SettingWithCopyWarning:\n",
      "\n",
      "\n",
      "A value is trying to be set on a copy of a slice from a DataFrame.\n",
      "Try using .loc[row_indexer,col_indexer] = value instead\n",
      "\n",
      "See the caveats in the documentation: http://pandas.pydata.org/pandas-docs/stable/indexing.html#indexing-view-versus-copy\n",
      "\n"
     ]
    },
    {
     "data": {
      "text/html": [
       "<div>\n",
       "<table border=\"1\" class=\"dataframe\">\n",
       "  <thead>\n",
       "    <tr style=\"text-align: right;\">\n",
       "      <th></th>\n",
       "      <th>docid</th>\n",
       "      <th>product</th>\n",
       "      <th>label</th>\n",
       "      <th>rating</th>\n",
       "      <th>pc_class</th>\n",
       "      <th>text</th>\n",
       "      <th>brand</th>\n",
       "    </tr>\n",
       "  </thead>\n",
       "  <tbody>\n",
       "    <tr>\n",
       "      <th>0</th>\n",
       "      <td>36</td>\n",
       "      <td>Digital_Cameras/Casio_QV_4000_4_0_Megapixel_D...</td>\n",
       "      <td>Yes</td>\n",
       "      <td>5.0</td>\n",
       "      <td>Camera</td>\n",
       "      <td>\\n            I stumbled upon this camera afte...</td>\n",
       "      <td>Sony</td>\n",
       "    </tr>\n",
       "    <tr>\n",
       "      <th>1</th>\n",
       "      <td>107</td>\n",
       "      <td>Digital_Cameras/pr-Fuji_Finepix_MX-1200_Digit...</td>\n",
       "      <td>Yes</td>\n",
       "      <td>4.0</td>\n",
       "      <td>Camera</td>\n",
       "      <td>\\n            [NOTE: I have the Japanese versi...</td>\n",
       "      <td>Fuji</td>\n",
       "    </tr>\n",
       "    <tr>\n",
       "      <th>2</th>\n",
       "      <td>108</td>\n",
       "      <td>Digital_Cameras/pr-Fuji_Finepix_MX-1200_Digit...</td>\n",
       "      <td>Yes</td>\n",
       "      <td>4.0</td>\n",
       "      <td>Camera</td>\n",
       "      <td>\\n            Ah, finally, A great little came...</td>\n",
       "      <td>Sony</td>\n",
       "    </tr>\n",
       "    <tr>\n",
       "      <th>3</th>\n",
       "      <td>109</td>\n",
       "      <td>Digital_Cameras/pr-Fuji_Finepix_MX-1200_Digit...</td>\n",
       "      <td>Yes</td>\n",
       "      <td>5.0</td>\n",
       "      <td>Camera</td>\n",
       "      <td>\\n            Okay, I've written three negativ...</td>\n",
       "      <td>Fuji</td>\n",
       "    </tr>\n",
       "    <tr>\n",
       "      <th>4</th>\n",
       "      <td>110</td>\n",
       "      <td>Digital_Cameras/pr-Fuji_Finepix_MX-1200_Digit...</td>\n",
       "      <td>No</td>\n",
       "      <td>2.0</td>\n",
       "      <td>Camera</td>\n",
       "      <td>\\n            \\nThis camera is a great deal.  ...</td>\n",
       "      <td>Fuji</td>\n",
       "    </tr>\n",
       "  </tbody>\n",
       "</table>\n",
       "</div>"
      ],
      "text/plain": [
       "  docid                                            product label  rating  \\\n",
       "0    36   Digital_Cameras/Casio_QV_4000_4_0_Megapixel_D...   Yes     5.0   \n",
       "1   107   Digital_Cameras/pr-Fuji_Finepix_MX-1200_Digit...   Yes     4.0   \n",
       "2   108   Digital_Cameras/pr-Fuji_Finepix_MX-1200_Digit...   Yes     4.0   \n",
       "3   109   Digital_Cameras/pr-Fuji_Finepix_MX-1200_Digit...   Yes     5.0   \n",
       "4   110   Digital_Cameras/pr-Fuji_Finepix_MX-1200_Digit...    No     2.0   \n",
       "\n",
       "   pc_class                                               text brand  \n",
       "0   Camera   \\n            I stumbled upon this camera afte...  Sony  \n",
       "1   Camera   \\n            [NOTE: I have the Japanese versi...  Fuji  \n",
       "2   Camera   \\n            Ah, finally, A great little came...  Sony  \n",
       "3   Camera   \\n            Okay, I've written three negativ...  Fuji  \n",
       "4   Camera   \\n            \\nThis camera is a great deal.  ...  Fuji  "
      ]
     },
     "execution_count": 8,
     "metadata": {},
     "output_type": "execute_result"
    }
   ],
   "source": [
    "df_cameras['brand'] = pd.Series(list_cam_brands)\n",
    "cam_brand_rating = df_cameras.groupby(['brand', 'rating']).size()\n",
    "print cam_brand_rating"
   ]
  },
  {
   "cell_type": "code",
   "execution_count": 123,
   "metadata": {
    "collapsed": false
   },
   "outputs": [
    {
     "data": {
      "text/html": [
       "<iframe id=\"igraph\" scrolling=\"no\" style=\"border:none;\" seamless=\"seamless\" src=\"https://plot.ly/~luanj/114.embed\" height=\"525px\" width=\"100%\"></iframe>"
      ],
      "text/plain": [
       "<plotly.tools.PlotlyDisplay object>"
      ]
     },
     "execution_count": 123,
     "metadata": {},
     "output_type": "execute_result"
    }
   ],
   "source": [
    "# plot the proportions of ratings for different brands of cameras\n",
    "data = []\n",
    "x_bar = ['Sony', 'Nikon', 'Olympus', 'Kodak', 'Fuji', 'Polaroid', 'Other']\n",
    "list_ratings = [1.0, 2.0, 3.0, 4.0, 5.0]\n",
    "for i in list_ratings:\n",
    "    y_values = []\n",
    "    for j in x_bar:\n",
    "        y_values.append(cam_brand_rating[j].loc[i])\n",
    "    trace = go.Bar(\n",
    "        x = x_bar,\n",
    "        y = y_values,\n",
    "        name = i\n",
    "    )\n",
    "    data.append(trace)\n",
    "\n",
    "layout = go.Layout(\n",
    "    title='Number of Ratings for Different Brands of Cameras',\n",
    "    xaxis=dict(\n",
    "        title='Brand',\n",
    "        titlefont=dict(\n",
    "            family='Courier New, monospace',\n",
    "            size=18,\n",
    "            color='#7f7f7f'\n",
    "        )\n",
    "    ),\n",
    "    yaxis=dict(\n",
    "        title='Number of Reviews',\n",
    "        titlefont=dict(\n",
    "            family='Courier New, monospace',\n",
    "            size=18,\n",
    "            color='#7f7f7f'\n",
    "        )\n",
    "    ),\n",
    "    showlegend=True,\n",
    "    barmode='group'\n",
    ")\n",
    "\n",
    "fig = go.Figure(data=data, layout=layout)\n",
    "py.iplot(fig, filename='rating_cameras')"
   ]
  },
  {
   "cell_type": "code",
   "execution_count": 124,
   "metadata": {
    "collapsed": false
   },
   "outputs": [
    {
     "data": {
      "text/html": [
       "<iframe id=\"igraph\" scrolling=\"no\" style=\"border:none;\" seamless=\"seamless\" src=\"https://plot.ly/~luanj/116.embed\" height=\"525px\" width=\"100%\"></iframe>"
      ],
      "text/plain": [
       "<plotly.tools.PlotlyDisplay object>"
      ]
     },
     "execution_count": 124,
     "metadata": {},
     "output_type": "execute_result"
    }
   ],
   "source": [
    "mean_values = []\n",
    "for b in x_bar:\n",
    "    mean_values.append(df_cameras.loc[df_cameras['brand']== b, 'rating'].mean())\n",
    "data = [go.Bar(\n",
    "            x=x_bar,\n",
    "            y=mean_values\n",
    "    )]\n",
    "\n",
    "layout = go.Layout(\n",
    "    title='Average Ratings for Different Brands of Cameras',\n",
    "    xaxis=dict(\n",
    "        title='Brand',\n",
    "        titlefont=dict(\n",
    "            family='Courier New, monospace',\n",
    "            size=18,\n",
    "            color='#7f7f7f'\n",
    "        )\n",
    "    ),\n",
    "    yaxis=dict(\n",
    "        title='Average Ratings',\n",
    "        range = [3,5],\n",
    "        titlefont=dict(\n",
    "            family='Courier New, monospace',\n",
    "            size=18,\n",
    "            color='#7f7f7f'\n",
    "        )\n",
    "    )\n",
    ")\n",
    "\n",
    "fig = go.Figure(data=data, layout=layout)\n",
    "py.iplot(fig, filename='avg_rating_cameras')"
   ]
  },
  {
   "cell_type": "markdown",
   "metadata": {},
   "source": [
    "Now we focus on whether or not a reviewer recommends the product. Below is the distribution for each brand between \"Yes\" and \"No\"."
   ]
  },
  {
   "cell_type": "code",
   "execution_count": 125,
   "metadata": {
    "collapsed": false
   },
   "outputs": [
    {
     "name": "stdout",
     "output_type": "stream",
     "text": [
      "brand     label\n",
      "Fuji       No        37\n",
      "           Yes      316\n",
      "Kodak      No        59\n",
      "           Yes      485\n",
      "Nikon      No        90\n",
      "           Yes      769\n",
      "Olympus    No        51\n",
      "           Yes      574\n",
      "Other      No       371\n",
      "           Yes     2068\n",
      "Polaroid   No        28\n",
      "           Yes      151\n",
      "Sony       No        90\n",
      "           Yes      911\n",
      "dtype: int64\n"
     ]
    },
    {
     "data": {
      "text/html": [
       "<iframe id=\"igraph\" scrolling=\"no\" style=\"border:none;\" seamless=\"seamless\" src=\"https://plot.ly/~luanj/118.embed\" height=\"525px\" width=\"100%\"></iframe>"
      ],
      "text/plain": [
       "<plotly.tools.PlotlyDisplay object>"
      ]
     },
     "execution_count": 125,
     "metadata": {},
     "output_type": "execute_result"
    }
   ],
   "source": [
    "cam_brand_label = df_cameras.groupby(['brand', 'label']).size()\n",
    "print cam_brand_label\n",
    "# plot the proportions of labels(Yes or No) for different brands of cameras\n",
    "data = []\n",
    "x_bar = ['Sony', 'Nikon', 'Olympus', 'Kodak', 'Fuji', 'Polaroid', 'Other']\n",
    "list_labels = [' Yes',  ' No']\n",
    "for i in list_labels:\n",
    "    y_values = []\n",
    "    for j in x_bar:\n",
    "        y_values.append(cam_brand_label[j].loc[i])\n",
    "    trace = go.Bar(\n",
    "        x = x_bar,\n",
    "        y = y_values,\n",
    "        name = i\n",
    "    )\n",
    "    data.append(trace)\n",
    "\n",
    "layout = go.Layout(\n",
    "    title='Number of Reviews with Different Proportions for Different Brands of Cameras',\n",
    "    xaxis=dict(\n",
    "        title='Brand',\n",
    "        titlefont=dict(\n",
    "            family='Courier New, monospace',\n",
    "            size=18,\n",
    "            color='#7f7f7f'\n",
    "        )\n",
    "    ),\n",
    "    yaxis=dict(\n",
    "        title='Number of Reviews',\n",
    "        titlefont=dict(\n",
    "            family='Courier New, monospace',\n",
    "            size=18,\n",
    "            color='#7f7f7f'\n",
    "        )\n",
    "    ),\n",
    "    showlegend=True,\n",
    "    barmode='group'\n",
    ")\n",
    "\n",
    "fig = go.Figure(data=data, layout=layout)\n",
    "py.iplot(fig, filename='num_review_cameras')"
   ]
  },
  {
   "cell_type": "markdown",
   "metadata": {},
   "source": [
    "In general, a large proportion of reviews rate the product between 4 and 5. Furthermore, the reviews in which a consumer would recommend the product outweigh the negative reviews by a factor of nearly 8 to 1.  "
   ]
  },
  {
   "cell_type": "markdown",
   "metadata": {},
   "source": [
    "<a id='token'></a>\n",
    "# Featurization and Feature Selection"
   ]
  },
  {
   "cell_type": "markdown",
   "metadata": {},
   "source": [
    "In this section, we want to explore various methods of featurization and feature selection for a text classification problem. Our goal is to find the best combination of each to move forward with modeling.  For featurization we will utitilze term frequency (TF) and term frequency/inverse document frequency (TFIDF). For feature selection we will explore chi squared, information gain, and Orthogonal Matching Pursuit. \n",
    "\n",
    "However, for the purpose of feature selection and featurization, we will bootstrap our negative reviews to match the total number of positive reviews. This will allow us to work against a baseline majority predictor success rate of .5 instead of .88.  We also believe it is more important for camera makers to identify bad reviews and make amends accordingly. Once bootstrapped, the dataset was shuffled before moving forward."
   ]
  },
  {
   "cell_type": "code",
   "execution_count": 11,
   "metadata": {
    "collapsed": false
   },
   "outputs": [
    {
     "name": "stdout",
     "output_type": "stream",
     "text": [
      "5274\n",
      "726\n"
     ]
    }
   ],
   "source": [
    "# bootstrapping data\n",
    "df_cameras_no = df_cameras.loc[df_cameras['label'] == ' No', ]\n",
    "df_cameras_yes = df_cameras.loc[df_cameras['label'] == ' Yes', ]\n",
    "print len(df_cameras_yes)\n",
    "print len(df_cameras_no)\n",
    "df_sample_no = df_cameras_no.sample(frac=6.0, replace=True)"
   ]
  },
  {
   "cell_type": "code",
   "execution_count": 12,
   "metadata": {
    "collapsed": false
   },
   "outputs": [
    {
     "name": "stdout",
     "output_type": "stream",
     "text": [
      "9630\n"
     ]
    },
    {
     "data": {
      "text/html": [
       "<div>\n",
       "<table border=\"1\" class=\"dataframe\">\n",
       "  <thead>\n",
       "    <tr style=\"text-align: right;\">\n",
       "      <th></th>\n",
       "      <th>docid</th>\n",
       "      <th>product</th>\n",
       "      <th>label</th>\n",
       "      <th>rating</th>\n",
       "      <th>pc_class</th>\n",
       "      <th>text</th>\n",
       "      <th>brand</th>\n",
       "    </tr>\n",
       "  </thead>\n",
       "  <tbody>\n",
       "    <tr>\n",
       "      <th>2740</th>\n",
       "      <td>15935</td>\n",
       "      <td>Digital_Cameras/elec_Cameras-Digital_EpsonPho...</td>\n",
       "      <td>Yes</td>\n",
       "      <td>4.0</td>\n",
       "      <td>Camera</td>\n",
       "      <td>\\n            I finally broke down and purchas...</td>\n",
       "      <td>Other</td>\n",
       "    </tr>\n",
       "    <tr>\n",
       "      <th>731</th>\n",
       "      <td>3588</td>\n",
       "      <td>Digital_Cameras/_Canon_PowerShotG2__618420</td>\n",
       "      <td>Yes</td>\n",
       "      <td>5.0</td>\n",
       "      <td>Camera</td>\n",
       "      <td>\\n              The Canon G2 was introduced in...</td>\n",
       "      <td>Nikon</td>\n",
       "    </tr>\n",
       "    <tr>\n",
       "      <th>4062</th>\n",
       "      <td>24270</td>\n",
       "      <td>Digital_Cameras/pr-Kodak_EasyShare_DX4530_Dig...</td>\n",
       "      <td>No</td>\n",
       "      <td>1.0</td>\n",
       "      <td>Camera</td>\n",
       "      <td>\\n            As is true with most things in l...</td>\n",
       "      <td>Kodak</td>\n",
       "    </tr>\n",
       "    <tr>\n",
       "      <th>5882</th>\n",
       "      <td>35114</td>\n",
       "      <td>Digital_Cameras/elec-Photo-Cameras-All-Olympu...</td>\n",
       "      <td>No</td>\n",
       "      <td>3.0</td>\n",
       "      <td>Camera</td>\n",
       "      <td>\\n            I bought this camera from an auc...</td>\n",
       "      <td>Olympus</td>\n",
       "    </tr>\n",
       "    <tr>\n",
       "      <th>4935</th>\n",
       "      <td>28843</td>\n",
       "      <td>Digital_Cameras/elec_Cameras-Digital_KodakDCC...</td>\n",
       "      <td>No</td>\n",
       "      <td>3.0</td>\n",
       "      <td>Camera</td>\n",
       "      <td>\\n            It's a great camera.Has everythi...</td>\n",
       "      <td>Other</td>\n",
       "    </tr>\n",
       "  </tbody>\n",
       "</table>\n",
       "</div>"
      ],
      "text/plain": [
       "      docid                                            product label  rating  \\\n",
       "2740  15935   Digital_Cameras/elec_Cameras-Digital_EpsonPho...   Yes     4.0   \n",
       "731    3588        Digital_Cameras/_Canon_PowerShotG2__618420    Yes     5.0   \n",
       "4062  24270   Digital_Cameras/pr-Kodak_EasyShare_DX4530_Dig...    No     1.0   \n",
       "5882  35114   Digital_Cameras/elec-Photo-Cameras-All-Olympu...    No     3.0   \n",
       "4935  28843   Digital_Cameras/elec_Cameras-Digital_KodakDCC...    No     3.0   \n",
       "\n",
       "      pc_class                                               text    brand  \n",
       "2740   Camera   \\n            I finally broke down and purchas...    Other  \n",
       "731    Camera   \\n              The Canon G2 was introduced in...    Nikon  \n",
       "4062   Camera   \\n            As is true with most things in l...    Kodak  \n",
       "5882   Camera   \\n            I bought this camera from an auc...  Olympus  \n",
       "4935   Camera   \\n            It's a great camera.Has everythi...    Other  "
      ]
     },
     "execution_count": 12,
     "metadata": {},
     "output_type": "execute_result"
    }
   ],
   "source": [
    "frames = [df_cameras_yes, df_sample_no]\n",
    "df_new = pd.concat(frames)\n",
    "print len(df_new) # this is the size of data after we bootstrap\n",
    "df_s = df_new.iloc[np.random.permutation(len(df_new))] #randomly shuffle\n",
    "df_s.head()"
   ]
  },
  {
   "cell_type": "markdown",
   "metadata": {},
   "source": [
    "For our TF and TFIDF featurization, we focus on words and bigrams and trigrams. We remove any rare words that occur in less than 10 reviews and also exclude common words that appear in more than 30% of reviews. We also exclude stop words and exclude case from consideration by converting all to lower case.  "
   ]
  },
  {
   "cell_type": "code",
   "execution_count": 132,
   "metadata": {
    "collapsed": false
   },
   "outputs": [],
   "source": [
    "# term frequency\n",
    "tf = CountVectorizer(min_df=10, max_df=0.3, ngram_range=(1,3), stop_words = 'english', lowercase = True)\n",
    "\n",
    "X_tf = tf.fit_transform(df_s['text'].values)\n",
    "X2 = X_tf.toarray()"
   ]
  },
  {
   "cell_type": "code",
   "execution_count": 14,
   "metadata": {
    "collapsed": false
   },
   "outputs": [
    {
     "name": "stdout",
     "output_type": "stream",
     "text": [
      "(9630L, 75278L)\n"
     ]
    }
   ],
   "source": [
    "print X2.shape"
   ]
  },
  {
   "cell_type": "code",
   "execution_count": 15,
   "metadata": {
    "collapsed": false
   },
   "outputs": [],
   "source": [
    "# tfidf matrix\n",
    "tfidf = TfidfVectorizer(min_df=10, max_df=0.3, ngram_range=(1,3), stop_words = 'english', lowercase = True)\n",
    "\n",
    "X_tfidf = tfidf.fit_transform(df_s['text'].values)\n",
    "X = X_tfidf.toarray()\n",
    "y = [1 if i == ' Yes' else 0 for i in df_s['label'].tolist()]\n",
    "y = np.array(y)"
   ]
  },
  {
   "cell_type": "markdown",
   "metadata": {},
   "source": [
    "The first feature selection we will explore is the chi squared test to determine if the occurence of a word, bigram, or trigram and the output class are indpendent. \n",
    "\n",
    "The below train_test_split is used for splitting the dataset into cross-validation blocks to evaluate performance of different subsets of features. \n",
    "\n",
    "In order to evaluate different feature sizes, we ran the following chi_sq_evaluate function. It performs feature selection and subsets the data in different increments to find the best performing subset. At each iteration, the subset is tested using cross-validation with 4 different classifiers (logistic regression, svm, naive bayes, and knn). "
   ]
  },
  {
   "cell_type": "code",
   "execution_count": null,
   "metadata": {
    "collapsed": true
   },
   "outputs": [],
   "source": [
    "\n",
    "def train_test_split(X, y, P, k):\n",
    "    blocks = []\n",
    "    fold_len = P.shape[0]/(k+1)\n",
    "    counter = 0\n",
    "    for i in range(k+1):\n",
    "        if i != k:\n",
    "            blocks.append(list(P[counter:(counter+fold_len)]))\n",
    "            counter = counter +fold_len\n",
    "        else:\n",
    "            test_block =(list(P[counter:]))\n",
    "    return blocks, test_block\n",
    "\n",
    "# split data\n",
    "np.random.seed(0)\n",
    "blocks, test_block = train_test_split(X, y, np.random.permutation(X.shape[0]), 3)\n",
    "\n",
    "\n",
    "def chi_sq_evaluate(X, y, blocks, beg_coef, end_coef, interval=1):\n",
    "    list_logit_tr = []\n",
    "    list_logit_cv = []\n",
    "    list_svm_tr = []\n",
    "    list_svm_cv = []\n",
    "    list_nb_tr = []\n",
    "    list_nb_cv = []\n",
    "    list_knn_tr = []\n",
    "    list_knn_cv = []\n",
    "    list_featuretotal = []\n",
    "    for i in range(beg_coef, end_coef, interval):\n",
    "        chi2scores, chi2p = sklearn.feature_selection.chi2(X,y)\n",
    "        chi2scoresnp = np.array(chi2scores)\n",
    "        chi2scoressorted = np.argsort(chi2scoresnp)[::-1]\n",
    "        trimmedkeeps = chi2scoressorted[:i]\n",
    "        topfeats = []\n",
    "        for p in trimmedkeeps:\n",
    "            if chi2scoresnp[p] > 10.83:\n",
    "                topfeats.append(p)\n",
    "        topfeatsnp = np.array(topfeats)\n",
    "        list_logit_tr_pr = []\n",
    "        list_logit_cv_pr = []\n",
    "        list_svm_tr_pr = []\n",
    "        list_svm_cv_pr = []\n",
    "        list_nb_tr_pr = []\n",
    "        list_nb_cv_pr = []\n",
    "        list_knn_tr_pr = []\n",
    "        list_knn_cv_pr = []\n",
    "        for j in range(len(blocks)):\n",
    "            train_index = []\n",
    "            for k in range(len(blocks)):\n",
    "                if k != j:\n",
    "                    train_index = train_index + blocks[k]\n",
    "            X_tr = X[train_index, :]\n",
    "            y_tr = y[train_index]\n",
    "            X_cv = X[blocks[j], :]\n",
    "            y_cv = y[blocks[j]]\n",
    "            X_tr_subset = X_tr[:, topfeatsnp]\n",
    "            X_cv_subset = X_cv[:, topfeatsnp]\n",
    "            clf_logit = LogisticRegression()\n",
    "            clf_logit.fit(X_tr_subset, y_tr)\n",
    "            #clf_logit.score(X_tr, y_tr), clf_logit.score(X_cv, y_cv)\n",
    "            clf_svm = SVC(kernel = 'linear')\n",
    "            clf_svm.fit(X_tr_subset, y_tr)\n",
    "            clf_nb = MultinomialNB()\n",
    "            clf_nb.fit(X_tr_subset, y_tr)\n",
    "            clf_knn = KNeighborsClassifier()\n",
    "            clf_knn.fit(X_tr_subset, y_tr)\n",
    "            list_logit_tr_pr.append(clf_logit.score(X_tr_subset, y_tr))\n",
    "            list_logit_cv_pr.append(clf_logit.score(X_cv_subset, y_cv))\n",
    "            list_svm_tr_pr.append(clf_svm.score(X_tr_subset, y_tr))\n",
    "            list_svm_cv_pr.append(clf_svm.score(X_cv_subset, y_cv))\n",
    "            list_nb_tr_pr.append(clf_nb.score(X_tr_subset, y_tr))\n",
    "            list_nb_cv_pr.append(clf_nb.score(X_cv_subset, y_cv))\n",
    "            list_knn_tr_pr.append(clf_knn.score(X_tr_subset, y_tr))\n",
    "            list_knn_cv_pr.append(clf_knn.score(X_cv_subset, y_cv))\n",
    "        list_featuretotal.append(len(topfeatsnp))\n",
    "        tfnames = tf.get_feature_names()\n",
    "        topnames = []\n",
    "        for q in topfeatsnp:\n",
    "            topnames.append(tfnames[q])\n",
    "        print topnames[:25]\n",
    "        list_logit_tr.append(np.mean(list_logit_tr_pr))\n",
    "        list_logit_cv.append(np.mean(list_logit_cv_pr))\n",
    "        list_svm_tr.append(np.mean(list_svm_tr_pr))\n",
    "        list_svm_cv.append(np.mean(list_svm_cv_pr))\n",
    "        list_nb_tr.append(np.mean(list_nb_tr_pr))\n",
    "        list_nb_cv.append(np.mean(list_nb_cv_pr))\n",
    "        list_knn_tr.append(np.mean(list_knn_tr_pr))\n",
    "        list_knn_cv.append(np.mean(list_knn_cv_pr))\n",
    "    return list_logit_tr, list_logit_cv, list_svm_tr, list_svm_cv, list_nb_tr, list_nb_cv, list_knn_tr, list_knn_cv, list_featuretotal, topfeatsnp\n",
    "\n"
   ]
  },
  {
   "cell_type": "markdown",
   "metadata": {},
   "source": [
    "This function was executed testing feature subset sizes in increments of 100 between 50 and 4250. As this is quite time consuming, the results were saved in a csv upon prior execution and will be reloaded at this point from that csv. This approach will be mirrored as we encounter the same challenge in future feature selection approaches. "
   ]
  },
  {
   "cell_type": "markdown",
   "metadata": {},
   "source": [
    "In the following plot we examine the performance (model score) of each of the four classifiers at each different feature subset size from 50 to 4250. We have also plotted the performance on the training data to highlight how important it is to ensure that we are assessing our classifiers a separate test set to get an accurate indication of their performance. The best performing feature size appears to be 350.  "
   ]
  },
  {
   "cell_type": "code",
   "execution_count": 57,
   "metadata": {
    "collapsed": false
   },
   "outputs": [
    {
     "data": {
      "text/html": [
       "<iframe id=\"igraph\" scrolling=\"no\" style=\"border:none;\" seamless=\"seamless\" src=\"https://plot.ly/~luanj/106.embed\" height=\"525px\" width=\"100%\"></iframe>"
      ],
      "text/plain": [
       "<plotly.tools.PlotlyDisplay object>"
      ]
     },
     "execution_count": 57,
     "metadata": {},
     "output_type": "execute_result"
    }
   ],
   "source": [
    "df_chi2tf = pd.read_csv('CVTFChi2_TF1.csv')\n",
    "data = []\n",
    "colnames = ['logit_train','logit_cv', 'svm_train', 'svm_cv', 'nb_train', 'nb_cv', 'knn_train', 'knn_cv']\n",
    "barnames = ['Logistic Train', 'Logistic CV', 'SVM Train', 'SVM CV', 'Naive Bayes Train', 'Naive Bayes cv', \\\n",
    "           'KNN Train', 'KNN CV']\n",
    "for i in range(8):\n",
    "    data.append(\n",
    "    go.Scatter(\n",
    "        x=range(50,4250, 100),\n",
    "        y = df_chi2tf[colnames[i]],\n",
    "        name = barnames[i]\n",
    "        )\n",
    "    )\n",
    "layout = go.Layout(\n",
    "    title = 'Model Score and Number of Features with Chi Squared Metric on Term Frequency',\n",
    "    yaxis=dict(\n",
    "        title='Score',\n",
    "        titlefont=dict(\n",
    "            family='Courier New, monospace',\n",
    "            size=18,\n",
    "            color='#7f7f7f'\n",
    "        )\n",
    "    )\n",
    ")\n",
    "\n",
    "fig = go.Figure(data=data, layout=layout)\n",
    "py.iplot(fig)"
   ]
  },
  {
   "cell_type": "code",
   "execution_count": 58,
   "metadata": {
    "collapsed": false
   },
   "outputs": [
    {
     "data": {
      "text/html": [
       "<iframe id=\"igraph\" scrolling=\"no\" style=\"border:none;\" seamless=\"seamless\" src=\"https://plot.ly/~luanj/108.embed\" height=\"525px\" width=\"100%\"></iframe>"
      ],
      "text/plain": [
       "<plotly.tools.PlotlyDisplay object>"
      ]
     },
     "execution_count": 58,
     "metadata": {},
     "output_type": "execute_result"
    }
   ],
   "source": [
    "#code to plot the accuracy of the classifiers for these results. Function\n",
    "#code to load in the csv file from the Chi2TF and the Chi2TFIDF \n",
    "df_chi2tfidf = pd.read_csv('CVTFChi2_TFIDFscaled10_1.csv')\n",
    "data = []\n",
    "colnames = ['logit_train','logit_cv', 'svm_train', 'svm_cv', 'nb_train', 'nb_cv', 'knn_train', 'knn_cv']\n",
    "barnames = ['Logistic Train', 'Logistic CV', 'SVM Train', 'SVM CV', 'Naive Bayes Train', 'Naive Bayes cv', \\\n",
    "           'KNN Train', 'KNN CV']\n",
    "for i in range(8):\n",
    "    data.append(\n",
    "    go.Scatter(\n",
    "        x=range(50,4250, 100),\n",
    "        y = df_chi2tfidf[colnames[i]],\n",
    "        name = barnames[i]\n",
    "        )\n",
    "    )\n",
    "layout = go.Layout(\n",
    "    title = 'Model Score and Number of Features with Chi Squared Metric on TFIDF',\n",
    "    yaxis=dict(\n",
    "        title='Score',\n",
    "        titlefont=dict(\n",
    "            family='Courier New, monospace',\n",
    "            size=18,\n",
    "            color='#7f7f7f'\n",
    "        )\n",
    "    )\n",
    ")\n",
    "\n",
    "fig = go.Figure(data=data, layout=layout)\n",
    "py.iplot(fig)"
   ]
  },
  {
   "cell_type": "markdown",
   "metadata": {},
   "source": [
    "Now that we have determined an ideal subset size of 350, lets see the top 25 terms from both TF and TFIDF. Below we print out the top 25 terms in order of statistical significance from subsetting both the TF and the TFIDF data using the chi squared feature selection method. "
   ]
  },
  {
   "cell_type": "code",
   "execution_count": 17,
   "metadata": {
    "collapsed": false
   },
   "outputs": [
    {
     "name": "stdout",
     "output_type": "stream",
     "text": [
      "Top features from TF matrix according to Chi Square statistical significance test.\n",
      "[u'poor', u'agfa', u'excellent', u'smile', u'tried', u'problem', u'allows', u'settings', u'3x', u'bad', u'optical', u'returned', u'finecam', u'vivitar', u'service', u'kd 300z', u'terrible', u'film', u'optical zoom', u'print', u'xi', u'finecam s3', u'charger', u'manual', u'love']\n"
     ]
    }
   ],
   "source": [
    "print \"Top features from TF matrix according to Chi Square statistical significance test.\"\n",
    "results_Chi2TF = chi_sq_evaluate(X2, y, blocks, 350, 351)"
   ]
  },
  {
   "cell_type": "markdown",
   "metadata": {},
   "source": [
    "When executing the chi sqaured test from the sklearn package on our TFIDF term matrix, we encountered an interesting result. Only 14 terms were deemed statistically significant. We hypothesized that this is the result of the nature of TFIDF in that its values are inherently small and condensed. As a solution, we scaled our TFIDF values by a factor of 10. This allowed our values to be adequately assessed by the statistical test while maintaining the same distribution. This scaled TFIDF matrix will be used moving forward for feature selection.\n",
    "\n",
    "Below is the top 25 features as selected by the chi squared statistical test on the scaled TFIDF term matrix."
   ]
  },
  {
   "cell_type": "code",
   "execution_count": 18,
   "metadata": {
    "collapsed": false
   },
   "outputs": [
    {
     "name": "stdout",
     "output_type": "stream",
     "text": [
      "Top features from TFIDF matrix according to Chi Square statistical significance test.\n",
      "[u'smile', u'agfa', u'poor', u'love', u'highly recommend', u'vivitar', u'terrible', u'repair', u'ephoto smile', u'prints', u'excellent', u'returned', u'mb', u'support', u'highly', u'horrible', u'tried', u'film', u'allows', u'service', u'charger', u'3x', u'slr', u'worse', u'optical']\n"
     ]
    }
   ],
   "source": [
    "print \"Top features from TFIDF matrix according to Chi Square statistical significance test.\"\n",
    "results_Chi2TFIDF = chi_sq_evaluate(X.dot(10), y, blocks, 350, 351)"
   ]
  },
  {
   "cell_type": "markdown",
   "metadata": {},
   "source": [
    "Information Gain is a prominent approach for feature selection in text classification. Low information features can actually decrease performance in some instances. When selecting features based on Information Gain, an overall frequency distribution is used along with the conditional frequency distribution of each word (or words) across both classes. A chi squared statistical test is executed to determine if that difference is significant. It is customary to eliminate all features with an F score below 10.83 which indicates a p-value of .001. Below we print out the to 25 terms sorted in decending information gain order. "
   ]
  },
  {
   "cell_type": "code",
   "execution_count": 63,
   "metadata": {
    "collapsed": false
   },
   "outputs": [
    {
     "name": "stdout",
     "output_type": "stream",
     "text": [
      "(u'correct', 18187984.292081565)\n",
      "(u'quality images', 18162493.153044242)\n",
      "(u'interested', 18157397.063493479)\n",
      "(u'white', 1836314.925403151)\n",
      "(u'couldn', 1793475.589262032)\n",
      "(u'photo quality', 1787353.8367213272)\n",
      "(u'spend', 874986.55776171689)\n",
      "(u'cable', 659562.92717214092)\n",
      "(u'couple', 397177.04775867052)\n",
      "(u'friend', 387180.65546561952)\n",
      "(u'view', 370669.83412642841)\n",
      "(u'turn', 344182.11991430004)\n",
      "(u'end', 264590.79883821856)\n",
      "(u'shutter', 257423.33918905779)\n",
      "(u'similar', 255239.3936252392)\n",
      "(u'single', 255221.01534412886)\n",
      "(u'low', 241623.75187416046)\n",
      "(u'having', 237294.41284055839)\n",
      "(u'exposure', 234261.76306284193)\n",
      "(u'come', 179024.63082898507)\n",
      "(u'10', 171579.33963174743)\n",
      "(u'support', 137474.23969329073)\n",
      "(u'dial', 136520.31046809134)\n",
      "(u'addition', 136459.44793469721)\n",
      "(u'fine', 135441.49203285915)\n"
     ]
    }
   ],
   "source": [
    "yesdf = df_cameras[df_cameras['label']==' Yes']\n",
    "nodf = df_cameras[df_cameras['label']==' No']\n",
    "\n",
    "tfyes = CountVectorizer(min_df=10, max_df=0.3, ngram_range=(1,3), stop_words = 'english', lowercase = True)\n",
    "tfno = CountVectorizer(min_df=10, max_df=0.3, ngram_range=(1,3), stop_words = 'english', lowercase = True)\n",
    "tfall = CountVectorizer(min_df=10, max_df=0.3, ngram_range=(1,3), stop_words = 'english', lowercase = True)\n",
    "\n",
    "X_tfyes = tfyes.fit_transform(yesdf['text'].values)\n",
    "X2yes = X_tfyes.toarray()\n",
    "y_yes = [1 if i == ' Yes' else 0 for i in yesdf['label'].tolist()]\n",
    "y_yes = np.array(y_yes)\n",
    "\n",
    "\n",
    "X_tfno = tfno.fit_transform(nodf['text'].values)\n",
    "X2no = X_tfno.toarray()\n",
    "y_no = [1 if i == ' Yes' else 0 for i in nodf['label'].tolist()]\n",
    "y_no = np.array(y_no)\n",
    "\n",
    "X_tfall = tfall.fit_transform(df_cameras['text'].values)\n",
    "X2all = X_tfall.toarray()\n",
    "y_all = [1 if i == ' Yes' else 0 for i in df_cameras['label'].tolist()]\n",
    "y_all = np.array(y_all)\n",
    "\n",
    "#flatten all matrices to get the Freq dist\n",
    "flatX2yes = np.sum(X2yes, axis=0)\n",
    "yesnames = tfyes.get_feature_names()\n",
    "yesFD = {}\n",
    "for i in range(len(flatX2yes)):\n",
    "    yesFD[yesnames[i]] = flatX2yes[i]\n",
    "    \n",
    "flatX2no = np.sum(X2no, axis=0)\n",
    "nonames = tfno.get_feature_names()\n",
    "noFD = {}\n",
    "for i in range(len(flatX2no)):\n",
    "    noFD[nonames[i]] = flatX2no[i]\n",
    "\n",
    "flatX2all = np.sum(X2all, axis=0)\n",
    "allnames = tfall.get_feature_names()\n",
    "allFD = {}\n",
    "for i in range(len(flatX2all)):\n",
    "    allFD[allnames[i]] = flatX2all[i]\n",
    "\n",
    "condfdist = nltk.probability.ConditionalFreqDist()\n",
    "\n",
    "for i in yesnames:\n",
    "    condfdist['Yes'][i] = yesFD[i]\n",
    "\n",
    "for i in nonames:\n",
    "    condfdist['No'][i] = noFD[i]\n",
    "\n",
    "#from http://streamhacker.com/tag/chi-square/\n",
    "yes_count = condfdist[\"Yes\"].N()\n",
    "no_count = condfdist[\"No\"].N()\n",
    "total_count = len(allFD)\n",
    "wordscores = {}\n",
    "#The implementation of this for loop and the sorting line below was adapted from a tutorial at http://streamhacker.com/tag/chi-square/\n",
    "for word, freq in allFD.iteritems():\n",
    "    yes_score = nltk.BigramAssocMeasures.chi_sq(condfdist['Yes'][word],\n",
    "        (freq, yes_count), total_count)\n",
    "    no_score = nltk.BigramAssocMeasures.chi_sq(condfdist['No'][word],\n",
    "        (freq, no_count), total_count)\n",
    "    wordscores[word] = yes_score + no_score\n",
    "\n",
    "import operator\n",
    "infoGain = sorted(wordscores.items(), key=operator.itemgetter(1), reverse=True)\n",
    "for i in infoGain[:25]:\n",
    "    print i"
   ]
  },
  {
   "cell_type": "markdown",
   "metadata": {},
   "source": [
    "The following function will be used to trim features from our TF matrix based on the results of our calculated information gain. It returns a new matrix with only the selected features remaining."
   ]
  },
  {
   "cell_type": "code",
   "execution_count": 70,
   "metadata": {
    "collapsed": false
   },
   "outputs": [],
   "source": [
    "def trim_features_by_IG(X, sortedcondfreqdist, k):\n",
    "    trimmed_condFD = sortedcondfreqdist[:k]\n",
    "    top_words = [x[0] for x in trimmed_condFD]\n",
    "    indices = []\n",
    "    for i in top_words:\n",
    "        if i in tf.get_feature_names():\n",
    "            indices.append(tf.get_feature_names().index(i))\n",
    "    #ig_scores_only = np.array(condfreqdist.values()) \n",
    "    #indices = np.argsort(ig_scores_only)[::-1]\n",
    "    #trimmed_indices = indices[:k]\n",
    "    #print np.array(tf.get_feature_names())[trimmed_indices]\n",
    "    #print indices\n",
    "    indicesNP = np.array(indices)\n",
    "    X_trimmed = X[:,indicesNP]\n",
    "    return X_trimmed\n"
   ]
  },
  {
   "cell_type": "markdown",
   "metadata": {
    "collapsed": false
   },
   "source": [
    "But how many features should we keep? The next step is to identify how many features we want to retain to achieve the highest predictive accuracy. Similar to our chi squared approach, we ran the following function to test model accuracy (with cross-validation) incrementally with different subset sizes. As before, the output was saved to a csv and will be reloaded from csv at this point for efficiency purposes. Example output from a single iteration is below."
   ]
  },
  {
   "cell_type": "code",
   "execution_count": 21,
   "metadata": {
    "collapsed": true
   },
   "outputs": [],
   "source": [
    "def info_gain_evaluate(Xb, y, sortedcondfdist, blocks, beg_coef, end_coef, interval=1):\n",
    "    list_logit_tr = []\n",
    "    list_logit_cv = []\n",
    "    list_svm_tr = []\n",
    "    list_svm_cv = []\n",
    "    list_nb_tr = []\n",
    "    list_nb_cv = []\n",
    "    list_knn_tr = []\n",
    "    list_knn_cv = []\n",
    "    list_featuretotal = []\n",
    "    for i in range(beg_coef, end_coef, interval):\n",
    "        print str(i)+\" at \"+ str(datetime.datetime.now().hour)+\":\"+str(datetime.datetime.now().minute)+\":\"+str(datetime.datetime.now().second)\n",
    "        list_logit_tr_pr = []\n",
    "        list_logit_cv_pr = []\n",
    "        list_svm_tr_pr = []\n",
    "        list_svm_cv_pr = []\n",
    "        list_nb_tr_pr = []\n",
    "        list_nb_cv_pr = []\n",
    "        list_knn_tr_pr = []\n",
    "        list_knn_cv_pr = []\n",
    "        X = features_from_IG(Xb, sortedcondfdist, i)\n",
    "        for j in range(len(blocks)):\n",
    "            train_index = []\n",
    "            for k in range(len(blocks)):\n",
    "                if k != j:\n",
    "                    train_index = train_index + blocks[k]\n",
    "            X_tr = X[train_index, :]\n",
    "            y_tr = y[train_index]\n",
    "            X_cv = X[blocks[j], :]\n",
    "            y_cv = y[blocks[j]]\n",
    "            X_tr_subset = X_tr#[:, topfeatsnp]\n",
    "            X_cv_subset = X_cv#[:, topfeatsnp]\n",
    "            clf_logit = LogisticRegression()\n",
    "            clf_logit.fit(X_tr_subset, y_tr)\n",
    "            clf_svm = SVC(kernel = 'linear')\n",
    "            clf_svm.fit(X_tr_subset, y_tr)\n",
    "            clf_nb = MultinomialNB()\n",
    "            clf_nb.fit(X_tr_subset, y_tr)\n",
    "            clf_knn = KNeighborsClassifier()\n",
    "            clf_knn.fit(X_tr_subset, y_tr)\n",
    "            list_logit_tr_pr.append(clf_logit.score(X_tr_subset, y_tr))\n",
    "            list_logit_cv_pr.append(clf_logit.score(X_cv_subset, y_cv))\n",
    "            list_svm_tr_pr.append(clf_svm.score(X_tr_subset, y_tr))\n",
    "            list_svm_cv_pr.append(clf_svm.score(X_cv_subset, y_cv))\n",
    "            list_nb_tr_pr.append(clf_nb.score(X_tr_subset, y_tr))\n",
    "            list_nb_cv_pr.append(clf_nb.score(X_cv_subset, y_cv))\n",
    "            list_knn_tr_pr.append(clf_knn.score(X_tr_subset, y_tr))\n",
    "            list_knn_cv_pr.append(clf_knn.score(X_cv_subset, y_cv))\n",
    "        list_logit_tr.append(np.mean(list_logit_tr_pr))\n",
    "        list_logit_cv.append(np.mean(list_logit_cv_pr))\n",
    "        list_svm_tr.append(np.mean(list_svm_tr_pr))\n",
    "        list_svm_cv.append(np.mean(list_svm_cv_pr))\n",
    "        list_nb_tr.append(np.mean(list_nb_tr_pr))\n",
    "        list_nb_cv.append(np.mean(list_nb_cv_pr))\n",
    "        list_knn_tr.append(np.mean(list_knn_tr_pr))\n",
    "        list_knn_cv.append(np.mean(list_knn_cv_pr))\n",
    "    return list_logit_tr, list_logit_cv, list_svm_tr, list_svm_cv, list_nb_tr, list_nb_cv, list_knn_tr, list_knn_cv, list_featuretotal\n"
   ]
  },
  {
   "cell_type": "code",
   "execution_count": 63,
   "metadata": {
    "collapsed": false
   },
   "outputs": [
    {
     "name": "stdout",
     "output_type": "stream",
     "text": [
      "[19710, 57456, 36965, 78114, 19859, 51189, 68205, 10739, 19917, 30841, 76514, 73430, 25788, 65607, 65849, 66015, 42785, 33548, 27076, 17320, 95, 69839, 21863, 4372, 29105]\n"
     ]
    },
    {
     "data": {
      "text/plain": [
       "([0.59555463232239292],\n",
       " [0.58814568619304808],\n",
       " [0.58925356598809031],\n",
       " [0.58676083644924526],\n",
       " [0.59984766652818167],\n",
       " [0.59160781055255496],\n",
       " [0.7631214513225314],\n",
       " [0.67857637446337071],\n",
       " [])"
      ]
     },
     "execution_count": 63,
     "metadata": {},
     "output_type": "execute_result"
    }
   ],
   "source": [
    "info_gain_evaluate(X2, y, infoGain, blocks, 25, 26)"
   ]
  },
  {
   "cell_type": "markdown",
   "metadata": {},
   "source": [
    "When evaluating subset sizes from 50 to 2000, the best feature subset size appears to be 1950. Our TF term matrix representing this approach will be subsetted with this feature size moving forward."
   ]
  },
  {
   "cell_type": "code",
   "execution_count": 59,
   "metadata": {
    "collapsed": false
   },
   "outputs": [
    {
     "data": {
      "text/html": [
       "<iframe id=\"igraph\" scrolling=\"no\" style=\"border:none;\" seamless=\"seamless\" src=\"https://plot.ly/~luanj/110.embed\" height=\"525px\" width=\"100%\"></iframe>"
      ],
      "text/plain": [
       "<plotly.tools.PlotlyDisplay object>"
      ]
     },
     "execution_count": 59,
     "metadata": {},
     "output_type": "execute_result"
    }
   ],
   "source": [
    "df_infogain = pd.read_csv('TFInfoGain1.csv')\n",
    "data = []\n",
    "colnames = ['logit_train','logit_cv', 'svm_train', 'svm_cv', 'nb_train', 'nb_cv', 'knn_train', 'knn_cv']\n",
    "barnames = ['Logistic Train', 'Logistic CV', 'SVM Train', 'SVM CV', 'Naive Bayes Train', 'Naive Bayes cv', \\\n",
    "           'KNN Train', 'KNN CV']\n",
    "for i in range(8):\n",
    "    data.append(\n",
    "    go.Scatter(\n",
    "        x=range(50,2000, 100),\n",
    "        y = df_infogain[colnames[i]],\n",
    "        name = barnames[i]\n",
    "        )\n",
    "    )\n",
    "layout = go.Layout(\n",
    "    title = 'Model Score and Number of Features with Information Gain Metric on Term Frequency',\n",
    "    yaxis=dict(\n",
    "        title='Score',\n",
    "        titlefont=dict(\n",
    "            family='Courier New, monospace',\n",
    "            size=18,\n",
    "            color='#7f7f7f'\n",
    "        )\n",
    "    )\n",
    ")\n",
    "\n",
    "fig = go.Figure(data=data, layout=layout)\n",
    "py.iplot(fig)"
   ]
  },
  {
   "cell_type": "markdown",
   "metadata": {},
   "source": [
    "Orthogonal Matching Pursuit is another feature selection approach for text data. It is performed by approximating a linear fit while limiting the number of nonzero coefficients. Below prints the top 25 features for TF according to OMP. The sklearn implementation of Orthogonal Matching Pursuit actually includes a call todense() which converts the spare matrix input to dense before doing computations. This precluded us from being able to successfully execute it on our TFIDF term matrix. However, we did utilize this approach with our TF matrix. Below we see the top 25 terms from our TF matrix selected by Orthogonal Matching Pursuit. "
   ]
  },
  {
   "cell_type": "code",
   "execution_count": 22,
   "metadata": {
    "collapsed": false
   },
   "outputs": [
    {
     "name": "stdout",
     "output_type": "stream",
     "text": [
      "Top 25 features from TF matrix according to Orthogonal Matching Pursuit.\n",
      "[u'3x' u'640 camera' u'agfa' u'awful' u'bad' u'camera great' u'demo camera'\n",
      " u'excellent' u'expected digital' u'film' u'grainy' u'handy' u'haven'\n",
      " u'highly recommend' u'impossible' u'lemon' u'love' u'maybe' u'outstanding'\n",
      " u'poor' u'problem' u'rechargeable batteries' u'returned' u'thought'\n",
      " u'tried']\n"
     ]
    }
   ],
   "source": [
    "n_nonzero_coefs = 25\n",
    "omp = OrthogonalMatchingPursuit(n_nonzero_coefs=n_nonzero_coefs)\n",
    "omp.fit(X2, y)\n",
    "coef = omp.coef_\n",
    "idx_r, = coef.nonzero()\n",
    "print \"Top 25 features from TF matrix according to Orthogonal Matching Pursuit.\"\n",
    "#NEED TO FIX THIS. REFERENCE BACK TO TF VECTORIZED DATASET. I THINK idx_r ARE INDEXES FOR THAT DATASET.\n",
    "print np.array(tf.get_feature_names())[idx_r]\n"
   ]
  },
  {
   "cell_type": "markdown",
   "metadata": {},
   "source": [
    "Now we evaluate different feature set sizes in Orthogonal Matching Pursuit to determine the best configuration. We used the following function (similar to our chi squared and info gain evaluators above), to evaluate performance of different feature set sizes using 4 different classifiers. Just like the other, it needed to be run overnight and for the efficiency purposes of this notebook, its results will be reloaded from csv for plotting purposes. "
   ]
  },
  {
   "cell_type": "code",
   "execution_count": 127,
   "metadata": {
    "collapsed": true
   },
   "outputs": [],
   "source": [
    "def find_coef (X, y, blocks, beg_coef, end_coef, interval = 1):\n",
    "    list_logit_tr = []\n",
    "    list_logit_cv = []\n",
    "    list_svm_tr = []\n",
    "    list_svm_cv = []\n",
    "    list_nb_tr = []\n",
    "    list_nb_cv = []\n",
    "    list_knn_tr = []\n",
    "    list_knn_cv = []\n",
    "    for i in range(beg_coef, end_coef, interval):\n",
    "        omp = OrthogonalMatchingPursuit(n_nonzero_coefs= i,normalize = True)\n",
    "        list_logit_tr_pr = []\n",
    "        list_logit_cv_pr = []\n",
    "        list_svm_tr_pr = []\n",
    "        list_svm_cv_pr = []\n",
    "        list_nb_tr_pr = []\n",
    "        list_nb_cv_pr = []\n",
    "        list_knn_tr_pr = []\n",
    "        list_knn_cv_pr = []\n",
    "        for j in range(len(blocks)):\n",
    "            train_index = []\n",
    "            for k in range(len(blocks)):\n",
    "                if k != j:\n",
    "                    train_index = train_index + blocks[k]\n",
    "            X_tr = X[train_index, :]\n",
    "            y_tr = y[train_index]\n",
    "            X_cv = X[blocks[j], :]\n",
    "            y_cv = y[blocks[j]]\n",
    "            omp.fit(X_tr, y_tr)\n",
    "            coef = omp.coef_\n",
    "            idx_r, = coef.nonzero()  \n",
    "            X_tr_subset = X_tr[:, idx_r]\n",
    "            X_cv_subset = X_cv[:, idx_r]\n",
    "            clf_logit = LogisticRegression()\n",
    "            clf_logit.fit(X_tr_subset, y_tr)\n",
    "            clf_svm = SVC(kernel = 'linear')\n",
    "            clf_svm.fit(X_tr_subset, y_tr)\n",
    "            clf_nb = MultinomialNB()\n",
    "            clf_nb.fit(X_tr_subset, y_tr)\n",
    "            clf_knn = KNeighborsClassifier()\n",
    "            clf_knn.fit(X_tr_subset, y_tr)\n",
    "            list_logit_tr_pr.append(clf_logit.score(X_tr_subset, y_tr))\n",
    "            #print clf_logit.score(X_tr_subset, y_tr)\n",
    "            list_logit_cv_pr.append(clf_logit.score(X_cv_subset, y_cv))\n",
    "            #print clf_logit.score(X_cv_subset, y_cv)\n",
    "            list_svm_tr_pr.append(clf_svm.score(X_tr_subset, y_tr))\n",
    "            #print clf_svm.score(X_tr_subset, y_tr)\n",
    "            list_svm_cv_pr.append(clf_svm.score(X_cv_subset, y_cv))\n",
    "            #print clf_svm.score(X_cv_subset, y_cv)\n",
    "            list_nb_tr_pr.append(clf_nb.score(X_tr_subset, y_tr))\n",
    "            #print clf_nb.score(X_tr_subset, y_tr)\n",
    "            list_nb_cv_pr.append(clf_nb.score(X_cv_subset, y_cv))\n",
    "            #print clf_nb.score(X_cv_subset, y_cv)\n",
    "            list_knn_tr_pr.append(clf_knn.score(X_tr_subset, y_tr))\n",
    "            #print clf_knn.score(X_tr_subset, y_tr)\n",
    "            list_knn_cv_pr.append(clf_knn.score(X_cv_subset, y_cv))\n",
    "            #print clf_knn.score(X_cv_subset, y_cv)\n",
    "        print 'logit_tr_pr: ', list_logit_tr_pr\n",
    "        print 'logit_cv_pr: ', list_logit_cv_pr\n",
    "        print 'svm_tr_pr: ', list_svm_tr_pr\n",
    "        print 'svm_cv_pr: ', list_svm_cv_pr\n",
    "        print 'nb_tr_pr: ', list_nb_tr_pr\n",
    "        print 'nb_cv_pr: ', list_nb_cv_pr\n",
    "        print 'knn_tr_pr: ', list_knn_tr_pr\n",
    "        print 'knn_cv_pr: ', list_knn_cv_pr\n",
    "        print 'logit_tr mean:', np.mean(list_logit_tr_pr)\n",
    "        list_logit_tr.append(np.mean(list_logit_tr_pr))\n",
    "        print 'logit_cv mean:', np.mean(list_logit_cv_pr) \n",
    "        list_logit_cv.append(np.mean(list_logit_cv_pr))\n",
    "        print 'svm_tr mean:', np.mean(list_svm_tr_pr) \n",
    "        list_svm_tr.append(np.mean(list_svm_tr_pr))\n",
    "        print 'svm_cv mean: ', np.mean(list_svm_cv_pr) \n",
    "        list_svm_cv.append(np.mean(list_svm_cv_pr))\n",
    "        print 'nb_tr mean: ', np.mean(list_nb_tr_pr) \n",
    "        list_nb_tr.append(np.mean(list_nb_tr_pr))\n",
    "        print 'nb_cv mean: ', np.mean(list_nb_cv_pr) \n",
    "        list_nb_cv.append(np.mean(list_nb_cv_pr))\n",
    "        print 'knn_tr mean: ', np.mean(list_knn_tr_pr)\n",
    "        list_knn_tr.append(np.mean(list_knn_tr_pr))\n",
    "        print 'knn_cv mean: ', np.mean(list_knn_cv_pr) \n",
    "        list_knn_cv.append(np.mean(list_knn_cv_pr))\n",
    "    return list_logit_tr, list_logit_cv, list_svm_tr, list_svm_cv, list_nb_tr, list_nb_cv, list_knn_tr, list_knn_cv\n"
   ]
  },
  {
   "cell_type": "code",
   "execution_count": 60,
   "metadata": {
    "collapsed": false
   },
   "outputs": [
    {
     "data": {
      "text/html": [
       "<iframe id=\"igraph\" scrolling=\"no\" style=\"border:none;\" seamless=\"seamless\" src=\"https://plot.ly/~luanj/112.embed\" height=\"525px\" width=\"100%\"></iframe>"
      ],
      "text/plain": [
       "<plotly.tools.PlotlyDisplay object>"
      ]
     },
     "execution_count": 60,
     "metadata": {},
     "output_type": "execute_result"
    }
   ],
   "source": [
    "df_omptf = pd.read_csv('OMP_CVTF1.csv')\n",
    "data = []\n",
    "colnames = ['logit_train','logit_cv', 'svm_train', 'svm_cv', 'nb_train', 'nb_cv', 'knn_train', 'knn_cv']\n",
    "barnames = ['Logistic Train', 'Logistic CV', 'SVM Train', 'SVM CV', 'Naive Bayes Train', 'Naive Bayes cv', \\\n",
    "           'KNN Train', 'KNN CV']\n",
    "for i in range(8):\n",
    "    data.append(\n",
    "    go.Scatter(\n",
    "        x=range(50,4250, 100),\n",
    "        y = df_omptf[colnames[i]],\n",
    "        name = barnames[i]\n",
    "        )\n",
    "    )\n",
    "layout = go.Layout(\n",
    "    title = 'Model Score and Number of Features with Orthogonal Matching Pursuit on Term Frequency',\n",
    "    yaxis=dict(\n",
    "        title='Score',\n",
    "        titlefont=dict(\n",
    "            family='Courier New, monospace',\n",
    "            size=18,\n",
    "            color='#7f7f7f'\n",
    "        )\n",
    "    )\n",
    ")\n",
    "\n",
    "fig = go.Figure(data=data, layout=layout)\n",
    "py.iplot(fig)        \n",
    "\n",
    "        "
   ]
  },
  {
   "cell_type": "markdown",
   "metadata": {},
   "source": [
    "We now have 4 different feature subsets. 3 are subsets of the TF term matrix, 1 is a subset of the TFIDF matrix. Two of the subsets are derived chi squared, one from information gain, and one from Orthogonal Matching Pursuit. Below we actually subset the initial matrices to represent datasets for these final feature totals to be used next in model tuning."
   ]
  },
  {
   "cell_type": "code",
   "execution_count": 72,
   "metadata": {
    "collapsed": false
   },
   "outputs": [],
   "source": [
    "chi2TF_X = X2[:,results_Chi2TF[9]]\n",
    "chi2TF_y = y\n",
    "\n",
    "chi2TFIDF_X = X[:,results_Chi2TFIDF[9]]\n",
    "chi2TFIDF_y = y\n",
    "\n",
    "InfoGainTF_X = trim_features_by_IG(X2, infoGain, 1949)\n",
    "\n",
    "n_nonzero_coefs = 3050\n",
    "omp = OrthogonalMatchingPursuit(n_nonzero_coefs=n_nonzero_coefs)\n",
    "omp.fit(X2, y)\n",
    "coef = omp.coef_\n",
    "idx_r, = coef.nonzero()\n",
    "OMPTF_X = X2[:,idx_r]\n",
    "OMPTF_y = y"
   ]
  },
  {
   "cell_type": "code",
   "execution_count": 74,
   "metadata": {
    "collapsed": false
   },
   "outputs": [
    {
     "name": "stdout",
     "output_type": "stream",
     "text": [
      "(9630L, 350L)\n",
      "(9630L, 350L)\n",
      "(9630L, 1949L)\n",
      "(9630L, 3050L)\n"
     ]
    }
   ],
   "source": [
    "print chi2TF_X.shape\n",
    "print chi2TFIDF_X.shape\n",
    "print InfoGainTF_X.shape\n",
    "print OMPTF_X.shape\n"
   ]
  },
  {
   "cell_type": "markdown",
   "metadata": {},
   "source": [
    "<a id='modeling'></a>\n",
    "## Model Tuning\n",
    "\n",
    "We will use 4 modeling algorithms from the sklearn package in order to build our classifier. In this section we will use a grid search methodology to derive the best parameters for each of the models. Each model has a cross-validation and a grid search function which will change parameters incrementally, test each parameter set using cross validation, and report the best results. We are tuning these models on the data subset recommended by chi squared on the TFIDF data as this was the highest performing during feature selection.  "
   ]
  },
  {
   "cell_type": "code",
   "execution_count": 26,
   "metadata": {
    "collapsed": true
   },
   "outputs": [],
   "source": [
    "#logistic regression\n",
    "def cross_validation_logit(X,y, blocks, penalty, C):\n",
    "    arr_errors = np.zeros(len(blocks))\n",
    "    for j in range(len(blocks)):\n",
    "        train_index = []\n",
    "        for h in range(len(blocks)):\n",
    "            if j!=h:\n",
    "                train_index = train_index + blocks[h]\n",
    "        clf_logit = LogisticRegression(penalty = penalty, C= C)\n",
    "        clf_logit.fit(X[train_index, :], y[train_index])\n",
    "        test_result = clf_logit.predict(X[blocks[j], :])\n",
    "        arr_errors[j] = \\\n",
    "            float(sum(test_result != y[blocks[j]]))/float(len(test_result))\n",
    "    return np.mean(arr_errors)"
   ]
  },
  {
   "cell_type": "code",
   "execution_count": 27,
   "metadata": {
    "collapsed": false
   },
   "outputs": [],
   "source": [
    "# logistic regression\n",
    "def grid_search_logit(X,y, blocks, penalties, Cs):\n",
    "    all_errors = np.zeros((len(penalties), len(Cs)))\n",
    "    for i in range(len(penalties)): \n",
    "        print penalties[i]\n",
    "        all_errors[i, :] = np.array([cross_validation_logit(X, y, blocks, penalties[i],j) for j in Cs])\n",
    "    index = np.argmin(all_errors)\n",
    "    penalty = penalties[index/len(Cs)]\n",
    "    C = Cs[index%len(Cs)]\n",
    "    return penalty, C"
   ]
  },
  {
   "cell_type": "code",
   "execution_count": 42,
   "metadata": {
    "collapsed": false
   },
   "outputs": [
    {
     "name": "stdout",
     "output_type": "stream",
     "text": [
      "l1\n",
      "l2\n"
     ]
    }
   ],
   "source": [
    "params = grid_search_logit(chi2TFIDF_X, y, blocks, ['l1', 'l2'], np.arange(0.1, 10, 0.2))"
   ]
  },
  {
   "cell_type": "code",
   "execution_count": 39,
   "metadata": {
    "collapsed": false
   },
   "outputs": [
    {
     "name": "stdout",
     "output_type": "stream",
     "text": [
      "('l1', 9.9000000000000021)\n"
     ]
    }
   ],
   "source": [
    "print params"
   ]
  },
  {
   "cell_type": "code",
   "execution_count": 43,
   "metadata": {
    "collapsed": false
   },
   "outputs": [],
   "source": [
    "#svm\n",
    "def cross_validation_svm(X,y, blocks, gamma, kernel, C, degree=3):\n",
    "    arr_errors = np.zeros(len(blocks))\n",
    "    for j in range(len(blocks)):\n",
    "        train_index = []\n",
    "        for h in range(len(blocks)):\n",
    "            if j!=h:\n",
    "                train_index = train_index + blocks[h]\n",
    "        clf_svm = SVC(kernel = kernel, C= C, degree = degree, gamma = gamma)\n",
    "        clf_svm.fit(X[train_index, :], y[train_index])\n",
    "        test_result = clf_svm.predict(X[blocks[j], :])\n",
    "        arr_errors[j] = \\\n",
    "            float(sum(test_result != y[blocks[j]]))/float(len(test_result))\n",
    "    return np.mean(arr_errors)"
   ]
  },
  {
   "cell_type": "code",
   "execution_count": 44,
   "metadata": {
    "collapsed": true
   },
   "outputs": [],
   "source": [
    "# svm\n",
    "def grid_search_svm(X,y, blocks, kernel, Cs, degree = 3, gamma = 'auto'):\n",
    "    all_errors = np.zeros((len(Cs), 1))\n",
    "    all_errors = np.array([cross_validation_svm(X,y, blocks, gamma, kernel, Cs[j], degree=3) for j\\\n",
    "                           in range(len(Cs))])\n",
    "    index = np.argmin(all_errors)\n",
    "    return Cs[index], np.min(all_errors)\n",
    "\n",
    "params_svm_linear = grid_search_svm(chi2TFIDF_X,y, blocks,  'linear', np.arange(0.1, 10, 0.2))\n",
    "params_svm_rbf = grid_search_svm(chi2TFIDF_X,y, blocks,  'rbf', np.arange(0.1, 10, 0.2))"
   ]
  },
  {
   "cell_type": "code",
   "execution_count": 47,
   "metadata": {
    "collapsed": false
   },
   "outputs": [
    {
     "name": "stdout",
     "output_type": "stream",
     "text": [
      "(9.7000000000000011, 0.14720952776623733)\n",
      "(0.10000000000000001, 0.45533859576235974)\n"
     ]
    }
   ],
   "source": [
    "print params_svm_linear\n",
    "print params_svm_rbf"
   ]
  },
  {
   "cell_type": "code",
   "execution_count": 48,
   "metadata": {
    "collapsed": true
   },
   "outputs": [],
   "source": [
    "#nb\n",
    "def cross_validation_nb(X,y, blocks, alpha):\n",
    "    arr_errors = np.zeros(len(blocks))\n",
    "    for j in range(len(blocks)):\n",
    "        train_index = []\n",
    "        for h in range(len(blocks)):\n",
    "            if j!=h:\n",
    "                #print self.blocks[h]\n",
    "                train_index = train_index + blocks[h]\n",
    "        #print 'train_index: ', train_index\n",
    "        clf_nb = MultinomialNB(alpha = alpha)\n",
    "        clf_nb.fit(X[train_index, :], y[train_index])\n",
    "        test_result = clf_nb.predict(X[blocks[j], :])\n",
    "        #print 'test result: ', test_result\n",
    "        arr_errors[j] = \\\n",
    "            float(sum(test_result != y[blocks[j]]))/float(len(test_result))\n",
    "        #float(sum(y_hat != y))/float(len(y))\n",
    "        #print 'test_result shape ', len(test_result)\n",
    "    return np.mean(arr_errors)"
   ]
  },
  {
   "cell_type": "code",
   "execution_count": 49,
   "metadata": {
    "collapsed": true
   },
   "outputs": [],
   "source": [
    "# nb\n",
    "def grid_search_nb(X,y, blocks, alphas):\n",
    "    all_errors = np.zeros((len(alphas), 1))\n",
    "    all_errors = np.array([cross_validation_nb(X, y, blocks, alphas[j]) for j in range(len(alphas))])\n",
    "    #print all_errors\n",
    "    index = np.argmin(all_errors)\n",
    "    return alphas[index]"
   ]
  },
  {
   "cell_type": "code",
   "execution_count": 50,
   "metadata": {
    "collapsed": false
   },
   "outputs": [],
   "source": [
    "params_nb = grid_search_nb(chi2TFIDF_X,y, blocks, np.arange(0.0, 10, 0.2))"
   ]
  },
  {
   "cell_type": "code",
   "execution_count": 51,
   "metadata": {
    "collapsed": false
   },
   "outputs": [
    {
     "name": "stdout",
     "output_type": "stream",
     "text": [
      "0.2\n"
     ]
    }
   ],
   "source": [
    "print params_nb"
   ]
  },
  {
   "cell_type": "code",
   "execution_count": 52,
   "metadata": {
    "collapsed": true
   },
   "outputs": [],
   "source": [
    "#knn\n",
    "def cross_validation_knn(X,y, blocks, n_neighbor, weight):\n",
    "    arr_errors = np.zeros(len(blocks))\n",
    "    for j in range(len(blocks)):\n",
    "        train_index = []\n",
    "        for h in range(len(blocks)):\n",
    "            if j!=h:\n",
    "                #print self.blocks[h]\n",
    "                train_index = train_index + blocks[h]\n",
    "        #print 'train_index: ', train_index\n",
    "        clf_knn = KNeighborsClassifier(n_neighbors = n_neighbor, weights = weight)\n",
    "        clf_knn.fit(X[train_index, :], y[train_index])\n",
    "        test_result = clf_knn.predict(X[blocks[j], :])\n",
    "        #print 'test result: ', test_result\n",
    "        arr_errors[j] = \\\n",
    "            float(sum(test_result != y[blocks[j]]))/float(len(test_result))\n",
    "        #float(sum(y_hat != y))/float(len(y))\n",
    "        #print 'test_result shape ', len(test_result)\n",
    "    return np.mean(arr_errors)"
   ]
  },
  {
   "cell_type": "code",
   "execution_count": 53,
   "metadata": {
    "collapsed": true
   },
   "outputs": [],
   "source": [
    "# logistic regression\n",
    "def grid_search_knn(X,y, blocks, n_neighbors, weights):\n",
    "    all_errors = np.zeros((len(n_neighbors), len(weights)))\n",
    "    for i in range(len(n_neighbors)): \n",
    "        #print n_neighbors[i]\n",
    "        all_errors[i, :] = np.array([cross_validation_knn(X, y, blocks, n_neighbors[i],j) for j in weights])\n",
    "    #print all_errors\n",
    "    index = np.argmin(all_errors)\n",
    "    n_neighbor = n_neighbors[index/len(weights)]\n",
    "    weight = weights[index%len(weights)]\n",
    "    return n_neighbor, weight\n",
    "\n",
    "params_knn = grid_search_knn(Chi2TFIDF_X,y, blocks, range(3, 21, 2), ['uniform', 'distance'])"
   ]
  },
  {
   "cell_type": "code",
   "execution_count": 101,
   "metadata": {
    "collapsed": false
   },
   "outputs": [
    {
     "name": "stdout",
     "output_type": "stream",
     "text": [
      "(3, 'uniform')\n"
     ]
    }
   ],
   "source": [
    "print params_knn"
   ]
  },
  {
   "cell_type": "markdown",
   "metadata": {},
   "source": [
    "<a id='result'></a>\n",
    "# Model Selection\n",
    "\n",
    "Now that we have determined the best parameters for each of the modeling algorithms we will choose from, we can move forward with selecting the best model. In order to do this, we will execute each of our four models on each of the four data subsets we derived during feature selection. It is worth noting that our data is now comprised of nearly equal positive and negative reviews, resulting in a 54.77% success rate if predicting just the majority class for all records."
   ]
  },
  {
   "cell_type": "code",
   "execution_count": 75,
   "metadata": {
    "collapsed": false
   },
   "outputs": [
    {
     "data": {
      "text/plain": [
       "0.5476635514018692"
      ]
     },
     "execution_count": 75,
     "metadata": {},
     "output_type": "execute_result"
    }
   ],
   "source": [
    "df_s[df_s['label']==\" Yes\"].shape[0]/float(df_s.shape[0])"
   ]
  },
  {
   "cell_type": "markdown",
   "metadata": {},
   "source": [
    "The following function takes in a dataset (separated by X and y) and tests it on Logistic Regression, SVM, Naive Bayes, and KNN. Each of the models are instantiated using the tuned model parameters derived in previous section. The function outputs the best model, its score (which the metric for model assessment), and the name of the algorithm. At the top of the cell we identify the training indices apart from the testing indices to be used in our model evaluation. "
   ]
  },
  {
   "cell_type": "code",
   "execution_count": 93,
   "metadata": {
    "collapsed": false
   },
   "outputs": [],
   "source": [
    "train_index = []\n",
    "for m in range(len(blocks)):\n",
    "    train_index = train_index + blocks[m]\n",
    "\n",
    "def model_test(X,y):\n",
    "    X_tr = X[train_index,]\n",
    "    Y_tr = y[train_index]\n",
    "    X_test = X[test_block,]\n",
    "    y_test = y[test_block]\n",
    "    clf_logit = LogisticRegression(penalty=\"l1\", C=9.9)\n",
    "    clf_logit.fit(X_tr, y_tr)\n",
    "    model = clf_logit\n",
    "    modelname = \"Logistic Regression\"\n",
    "    score = clf_logit.score(X_test, y_test)\n",
    "    print \"Logistic score: \" + str(score)\n",
    "    clf_svm = SVC(kernel = 'linear', C=9.7)\n",
    "    clf_svm.fit(X_tr, y_tr)\n",
    "    print \"SVM score: \" + str(clf_svm.score(X_test, y_test))\n",
    "    if score < clf_svm.score(X_test,y_test):\n",
    "        model = clf_svm\n",
    "        modelname = \"SVM\"\n",
    "        score = clf_svm.score(X_test,y_test)\n",
    "    clf_nb = MultinomialNB(alpha=.2)\n",
    "    clf_nb.fit(X_tr, y_tr)\n",
    "    print \"NB score: \" + str(clf_nb.score(X_test, y_test))\n",
    "    if score < clf_nb.score(X_test,y_test):\n",
    "        model = clf_nb\n",
    "        modelname = \"NB\"\n",
    "        score = clf_nb.score(X_test,y_test)\n",
    "    clf_knn = KNeighborsClassifier(n_neighbors=3, weights='uniform')\n",
    "    clf_knn.fit(X_tr, y_tr)\n",
    "    print \"KNN score: \" + str(clf_knn.score(X_test, y_test))\n",
    "    if score < clf_knn.score(X_test,y_test):\n",
    "        model = clf_knn\n",
    "        modelname = \"KNN\"\n",
    "        score = clf_knn.score(X_test,y_test)\n",
    "    print \"***The best scoring algorithm is...\"\n",
    "    print str(modelname) + \"! With a score of \"+ str(score)+\"***\"\n",
    "    return model, modelname, score"
   ]
  },
  {
   "cell_type": "markdown",
   "metadata": {},
   "source": [
    "The code below systematically runs the model_function above on all 4 data subsets we have, ultimately reporting the highest performing model, the score, and with which dataset it was used on. This will make the final decision on our optimal model."
   ]
  },
  {
   "cell_type": "code",
   "execution_count": 95,
   "metadata": {
    "collapsed": false
   },
   "outputs": [
    {
     "name": "stdout",
     "output_type": "stream",
     "text": [
      "Testing with Chi Squared reduced TF matrix...\n",
      "Logistic score: 0.848484848485\n",
      "SVM score: 0.860523038605\n",
      "NB score: 0.803237858032\n",
      "KNN score: 0.852635948526\n",
      "***The best scoring algorithm is...\n",
      "SVM! With a score of 0.860523038605***\n",
      "\n",
      "Testing with Chi Squared reduced TFIDF matrix...\n",
      "Logistic score: 0.86301369863\n",
      "SVM score: 0.853051058531\n",
      "NB score: 0.759651307597\n",
      "KNN score: 0.712328767123\n",
      "***The best scoring algorithm is...\n",
      "Logistic Regression! With a score of 0.86301369863***\n",
      "\n",
      "Testing with Information Gain reduced TF matrix...\n",
      "Logistic score: 0.913242009132\n",
      "SVM score: 0.918638439186\n",
      "NB score: 0.833540888335\n",
      "KNN score: 0.654213366542\n",
      "***The best scoring algorithm is...\n",
      "SVM! With a score of 0.918638439186***\n",
      "\n",
      "Testing with Orthogonal Matching Pursuit reduced TF matrix...\n",
      "Logistic score: 0.980489829805\n",
      "SVM score: 0.977168949772\n",
      "NB score: 0.949356579494\n",
      "KNN score: 0.901203819012\n",
      "***The best scoring algorithm is...\n",
      "Logistic Regression! With a score of 0.980489829805***\n",
      "\n",
      "\n",
      "\n",
      "---OVERALL TOP PERFORMING MODEL---\n",
      "Logistic Regression\n",
      "Score: 0.980489829805\n",
      "Feature set: OMP_TF\n"
     ]
    }
   ],
   "source": [
    "print \"Testing with Chi Squared reduced TF matrix...\"\n",
    "TF_chi2_model, model_name, score = model_test(chi2TF_X, y)\n",
    "best_model = TF_chi2_model\n",
    "best_score = score\n",
    "model_X = chi2TF_X\n",
    "dataset = \"Chi_squared_TF\"\n",
    "name = model_name\n",
    "print \"\"\n",
    "print \"Testing with Chi Squared reduced TFIDF matrix...\"\n",
    "TFIDF_chi2_model, modelname, score = model_test(chi2TFIDF_X, y)\n",
    "if score > best_score:\n",
    "    best_score = score\n",
    "    best_model = TFIDF_chi2_model\n",
    "    model_X = chi2TFIDF_X\n",
    "    dataset = \"Chi_squared_TFIDF\"\n",
    "    name = model_name\n",
    "print \"\"\n",
    "print \"Testing with Information Gain reduced TF matrix...\"\n",
    "InfoGainTF_model, model_name, score = model_test(InfoGainTF_X, y)\n",
    "if score > best_score:\n",
    "    best_score = score\n",
    "    best_model = InfoGainTF_model\n",
    "    model_X = InfoGainTF_X\n",
    "    dataset = \"InfoGain_TF\"\n",
    "    name = model_name\n",
    "print \"\"\n",
    "print \"Testing with Orthogonal Matching Pursuit reduced TF matrix...\"\n",
    "OMP_TF_model, model_name, score = model_test(OMPTF_X, y)\n",
    "if score > best_score:\n",
    "    best_score = score\n",
    "    best_model = OMP_TF_model\n",
    "    model_X = OMPTF_X\n",
    "    dataset = \"OMP_TF\"\n",
    "    name = model_name\n",
    "    \n",
    "print \"\"\n",
    "print \"\"\n",
    "print \"\"\n",
    "print \"---OVERALL TOP PERFORMING MODEL---\"\n",
    "print name \n",
    "print \"Score: \" + str(best_score)\n",
    "print \"Feature set: \" + dataset\n"
   ]
  },
  {
   "cell_type": "markdown",
   "metadata": {},
   "source": [
    "We have selected the best model for our training and test data. Our model scores are deceivingly high, but it is just used to select the best performing model that we have thus far, this isn't representative of real world output. In the real world, reviews are unbalanced, so we will load in our pre-boostrapped data to test the model performance. First we will create a new TF matrix and re-select the best 3050 features using our top performing feature selection (OMP). "
   ]
  },
  {
   "cell_type": "code",
   "execution_count": 130,
   "metadata": {
    "collapsed": true
   },
   "outputs": [],
   "source": [
    "# term frequency\n",
    "tf2 = CountVectorizer(min_df=10, max_df=0.3, ngram_range=(1,3), stop_words = 'english', lowercase = True)\n",
    "\n",
    "X_tf2 = tf2.fit_transform(df_cameras['text'].values)\n",
    "X3 = X_tf2.toarray()"
   ]
  },
  {
   "cell_type": "code",
   "execution_count": 133,
   "metadata": {
    "collapsed": false
   },
   "outputs": [
    {
     "data": {
      "text/plain": [
       "OrthogonalMatchingPursuit(fit_intercept=True, n_nonzero_coefs=3050,\n",
       "             normalize=True, precompute='auto', tol=None)"
      ]
     },
     "execution_count": 133,
     "metadata": {},
     "output_type": "execute_result"
    }
   ],
   "source": [
    "original_y = [1 if i == ' Yes' else 0 for i in df_cameras['label'].tolist()]\n",
    "original_y = np.array(original_y)\n",
    "n_nonzero_coefs = 3050\n",
    "omp2 = OrthogonalMatchingPursuit(n_nonzero_coefs=n_nonzero_coefs)\n",
    "omp2.fit(X3, original_y)\n",
    "coef2 = omp2.coef_\n",
    "idx_r2, = coef2.nonzero()"
   ]
  },
  {
   "cell_type": "code",
   "execution_count": 146,
   "metadata": {
    "collapsed": false
   },
   "outputs": [
    {
     "data": {
      "text/plain": [
       "0.44166666666666665"
      ]
     },
     "execution_count": 146,
     "metadata": {},
     "output_type": "execute_result"
    }
   ],
   "source": [
    "original_X = X3[:,idx_r2] \n",
    "b = best_model.predict(original_X)\n",
    "print best_model.score(original_X, original_y)"
   ]
  },
  {
   "cell_type": "markdown",
   "metadata": {},
   "source": [
    "Our model seems very low. Now let's take a quick look at its ROC curve and Confusion Matrix.\n",
    "\n",
    "The function below will help us visualize our model performance through confusion matrices and ROC plots. It will run the model_test function above and provide the ROC plot and confusion matrix for the top performing model for each of the 4 datasets. "
   ]
  },
  {
   "cell_type": "code",
   "execution_count": 156,
   "metadata": {
    "collapsed": true
   },
   "outputs": [],
   "source": [
    "#this function was built with help from the sklearn documentation on ROC curves\n",
    "#http://scikit-learn.org/stable/auto_examples/model_selection/plot_roc.html#sphx-glr-auto-examples-model-selection-plot-roc-py\n",
    "def model_evaluation(pred_y, actual_y):\n",
    "    fpr = dict()\n",
    "    tpr = dict()\n",
    "    roc_auc = dict()\n",
    "    print confusion_matrix(actual_y, pred_y)\n",
    "    for i in set(actual_y):\n",
    "        fpr[i], tpr[i], _ = sklearn.metrics.roc_curve(actual_y, pred_y)\n",
    "        roc_auc[i] = sklearn.metrics.auc(fpr[i], tpr[i])\n",
    "        plt.figure()\n",
    "        plt.plot(fpr[i], tpr[i], color=\"blue\", lw=2, label=\"ROC curve area = %0.2f)\" % roc_auc[i])\n",
    "        plt.plot([0,1], [0,1], color='orange', lw=2, linestyle='--')\n",
    "        plt.xlim([0.0, 1.0])\n",
    "        plt.ylim([0.0, 1.0])\n",
    "        plt.ylabel('True Positive Rate')\n",
    "        plt.xlabel('False Positive Rate')\n",
    "        plt.title(\"ROC Curve for '\"+str(i)+\"' Predictions\")\n",
    "        plt.legend(loc=\"lower right\")\n",
    "        plt.show()\n",
    "    return"
   ]
  },
  {
   "cell_type": "code",
   "execution_count": 157,
   "metadata": {
    "collapsed": false
   },
   "outputs": [
    {
     "name": "stdout",
     "output_type": "stream",
     "text": [
      "[[ 470  256]\n",
      " [3094 2180]]\n"
     ]
    },
    {
     "data": {
      "image/png": "[encoded data removed]",
      "text/plain": [
       "<matplotlib.figure.Figure at 0x22311e48>"
      ]
     },
     "metadata": {},
     "output_type": "display_data"
    },
    {
     "data": {
      "image/png": "[encoded data removed]",
      "text/plain": [
       "<matplotlib.figure.Figure at 0x125fdcf8>"
      ]
     },
     "metadata": {},
     "output_type": "display_data"
    }
   ],
   "source": [
    "model_evaluation(best_model.predict(original_X), original_y)"
   ]
  },
  {
   "cell_type": "markdown",
   "metadata": {},
   "source": [
    "Our model score of .44 seems quite low, and our ROC curve is barely above the baseline in the orange dash. However, lets refocus towards our primary business purpose. Our main goal is to accurately predict negative reviews. When assessing true negative rate below, we see a substantial rise from our baseline and thus we can accurately capture any negative sentiment the users may express. In the end, we believe we have accomplished our business goal which is to get better prediction on negative reviews."
   ]
  },
  {
   "cell_type": "code",
   "execution_count": 150,
   "metadata": {
    "collapsed": false
   },
   "outputs": [
    {
     "name": "stdout",
     "output_type": "stream",
     "text": [
      "0.64738292011\n"
     ]
    }
   ],
   "source": [
    "counter = 0\n",
    "total_neg = 0\n",
    "for i in range(len(b)):\n",
    "    if b[i] == original_y[i] and b[i] == 0:\n",
    "        counter += 1\n",
    "    if original_y[i] == 0:\n",
    "        total_neg += 1\n",
    "print float(counter)/float(total_neg)"
   ]
  },
  {
   "cell_type": "markdown",
   "metadata": {},
   "source": [
    "<a id='insight'></a>\n",
    "# What can we learn from our features?"
   ]
  },
  {
   "cell_type": "markdown",
   "metadata": {},
   "source": [
    "An interesting business application to this sentiment analysis is the ability to identify words that are particularly indicative of negative or positive reviews. In some cases, this could be a feature or camera aspect that may be particularly troublesome. Below we will use our modeling results and targeted feature selection to try and uncover areas of interest for a few brands.  \n",
    "\n",
    "One indication of the weight of certain words to the sentiment can be the coefficients from a logistic regression model. Below we adapt code from class to expose these top contributing words. Interestingly, when glancing through the top features, we can infer some potential areas of improvement for Nikon in their products. \"Write\", likely referring to the write time to disk after taking a photograph is one that jumps out. \"Lithium batteries\" and \"redeye\" might also give good indication of potential shortcomings."
   ]
  },
  {
   "cell_type": "code",
   "execution_count": 108,
   "metadata": {
    "collapsed": false
   },
   "outputs": [
    {
     "data": {
      "text/plain": [
       "[(u'result', -23.354927059995966),\n",
       " (u'write', -22.657879339866522),\n",
       " (u'turned', -20.831391357424675),\n",
       " (u'horrible', -20.028732786475075),\n",
       " (u'outdoor', -16.20274808062149),\n",
       " (u'returned', -16.201412119939707),\n",
       " (u'camera months', -15.72142477078256),\n",
       " (u'time time', -15.36343134548574),\n",
       " (u'case', 14.525174086982947),\n",
       " (u'fix', -13.772266647351481),\n",
       " (u'cameras ve', -13.428635392600663),\n",
       " (u'yes', -13.200619021300279),\n",
       " (u'lithium batteries', -12.494095617826034),\n",
       " (u'advertised', -11.77256715018688),\n",
       " (u'repair', -11.575554798697969),\n",
       " (u'port', 10.600750100564165),\n",
       " (u'redeye', -10.510171286044562),\n",
       " (u'clear', 10.326741723808297),\n",
       " (u'cd1000', -10.293689705327433),\n",
       " (u'nikon coolpix 775', -10.007744337875275),\n",
       " (u'disappointing', -9.9993693761321687),\n",
       " (u'cams', -9.9722005231028152),\n",
       " (u'research', 9.9455592228959233),\n",
       " (u'noticeably', -9.8291315741209928),\n",
       " (u'cards', 9.1748582304449187),\n",
       " (u'customer', -9.1579537311428485),\n",
       " (u'useless', -9.117760725994156),\n",
       " (u'nightshot', -8.9315854783073956),\n",
       " (u'hoping', -8.7670617625139453),\n",
       " (u'distance', -8.6365327249513495),\n",
       " (u'storage', -8.284902264106444),\n",
       " (u'help', -8.2427061332457185),\n",
       " (u'positive', -7.886235487129662),\n",
       " (u'support', -7.7985070733267152),\n",
       " (u'powershot pro', -7.5252520369031277),\n",
       " (u'dimage', -7.4239766170300339),\n",
       " (u'34', -7.4230330440753409),\n",
       " (u'update', -7.1905884315497701),\n",
       " (u'optical viewfinder', 6.8768640670315229),\n",
       " (u'metering', 6.815563878318434)]"
      ]
     },
     "execution_count": 108,
     "metadata": {},
     "output_type": "execute_result"
    }
   ],
   "source": [
    "df_nikon = df_cameras.loc[df_cameras['brand']=='Nikon', ]\n",
    "tfidf_nikon = TfidfVectorizer(min_df=10, max_df=0.3, ngram_range=(1,3), stop_words = 'english', lowercase = True)\n",
    "X_tfidf_nikon = tfidf_nikon.fit_transform(df_nikon['text'].values)\n",
    "X_nikon = X_tfidf_nikon.toarray()\n",
    "y_nikon = [1 if i == ' Yes' else 0 for i in df_nikon['label'].tolist()]\n",
    "y_nikon = np.array(y_nikon)\n",
    "clf_logit_nikon = LogisticRegression(penalty='l1', C= 9.9)\n",
    "clf_logit_nikon.fit(X_nikon, y_nikon)\n",
    "# code adapted from Zico Kolter Data Science Walkthrough notebook\n",
    "feature_names_nikon = np.array(tfidf_nikon.get_feature_names())\n",
    "sorted(zip(feature_names_nikon, clf_logit_nikon.coef_[0]), key=lambda x : np.abs(x[1]), reverse=True)[:40]"
   ]
  },
  {
   "cell_type": "markdown",
   "metadata": {},
   "source": [
    "When looking at the active words for Olympus, we can sift through some heavy opinion sharing words to see a few potential areas of improvement. \"Slow\" is particularly high on the list and might be a good indication that Olympus should explore the speed at which their phone performs normal functions. Further down the list we can see two separate words that may together indicate opportunity for Olympus, \"eats\" and \"duracell\". Perhaps rapid battery depletion is a concern for Olympus users."
   ]
  },
  {
   "cell_type": "code",
   "execution_count": 109,
   "metadata": {
    "collapsed": false
   },
   "outputs": [
    {
     "data": {
      "text/plain": [
       "[(u'poor', -16.634231575636317),\n",
       " (u'cheap', -15.755831267976768),\n",
       " (u'worse', -15.549074942198683),\n",
       " (u'certain', -15.18369962632671),\n",
       " (u'post', -14.850326443578647),\n",
       " (u'slow', -12.271994873447893),\n",
       " (u'sun', -11.897348513166351),\n",
       " (u'equivalent', -11.866612547877505),\n",
       " (u'lack', -11.729314782422598),\n",
       " (u'called', -11.116866467391105),\n",
       " (u'similar', -11.004810674696174),\n",
       " (u'download images', -10.994270617018071),\n",
       " (u'eats', -10.201474311176314),\n",
       " (u'duracell', -9.1468235550160912),\n",
       " (u'away', -8.9792313344023906),\n",
       " (u'rechargeable', 8.6524384812794395),\n",
       " (u'work', -8.4945242597621498),\n",
       " (u'bad', -8.2619738493081289),\n",
       " (u'seconds', -8.0660196484624329),\n",
       " (u'polaroid', -7.7775873551083068),\n",
       " (u'146t', 7.7301483643671505),\n",
       " (u'35', 7.0518026372961291),\n",
       " (u'door', -6.743468690619749),\n",
       " (u'takes seconds', -6.6814959020663327),\n",
       " (u'pictures taken', -6.662474498560524),\n",
       " (u'rechargable', -6.5789354274103227),\n",
       " (u'companies', -6.5582480963402379),\n",
       " (u'fact', -6.526002881271034),\n",
       " (u'usable', -6.5172907553493227),\n",
       " (u'research', 6.3562887852319214),\n",
       " (u'sent', -6.342834566136343),\n",
       " (u'quality camera', -6.3104783367190924),\n",
       " (u'owned', 5.7569364065789426),\n",
       " (u'blurry', -5.7545781497850541),\n",
       " (u'annoying', -5.6516061283899495),\n",
       " (u'280', -5.5142372670214055),\n",
       " (u'clear', -5.3269124274633226),\n",
       " (u'red', 5.3111859836182207),\n",
       " (u'party', -5.2969755037696213),\n",
       " (u'warranty', -5.0356012380629886)]"
      ]
     },
     "execution_count": 109,
     "metadata": {},
     "output_type": "execute_result"
    }
   ],
   "source": [
    "df_ol = df_cameras.loc[df_cameras['brand']=='Olympus', ]\n",
    "tfidf_ol = TfidfVectorizer(min_df=10, max_df=0.3, ngram_range=(1,3), stop_words = 'english', lowercase = True)\n",
    "X_tfidf_ol = tfidf_ol.fit_transform(df_ol['text'].values)\n",
    "X_ol = X_tfidf_ol.toarray()\n",
    "y_ol = [1 if i == ' Yes' else 0 for i in df_ol['label'].tolist()]\n",
    "y_ol = np.array(y_ol)\n",
    "clf_logit_ol = LogisticRegression(penalty = 'l1', C=9.9)\n",
    "clf_logit_ol.fit(X_ol, y_ol)\n",
    "# code adapted from Zico Kolter Data Science Walkthrough notebook\n",
    "feature_names_ol = np.array(tfidf_ol.get_feature_names())\n",
    "sorted(zip(feature_names_ol, clf_logit_ol.coef_[0]), key=lambda x : np.abs(x[1]), reverse=True)[:40]"
   ]
  },
  {
   "cell_type": "markdown",
   "metadata": {},
   "source": [
    "In order to get a better visualization of the top features, we constructed wordcloud below for the top negative words from \n",
    "Nikon and the top positive words from Olympus."
   ]
  },
  {
   "cell_type": "code",
   "execution_count": 110,
   "metadata": {
    "collapsed": true
   },
   "outputs": [],
   "source": [
    "list_feat_nikon=sorted(zip(feature_names_nikon, clf_logit_nikon.coef_[0]), key=lambda x : np.abs(x[1]), reverse=True)[:100]\n",
    "str_neg_nikon= ''\n",
    "str_pos_nikon = ''\n",
    "for i in list_feat_nikon:\n",
    "    if i[1] >0:\n",
    "        for j in range(int(i[1])):\n",
    "            str_pos_nikon += i[0] + ' '\n",
    "    else:\n",
    "        for j in range(np.abs(int(i[1]))):\n",
    "            str_neg_nikon += i[0] + ' '\n",
    "f = open('pos_nikon.txt','w')\n",
    "f.write(str_pos_nikon) \n",
    "f.close()\n",
    "f = open('neg_nikon.txt','w')\n",
    "f.write(str_neg_nikon) \n",
    "f.close()\n",
    "\n",
    "list_feat_ol=sorted(zip(feature_names_ol, clf_logit_ol.coef_[0]), key=lambda x : np.abs(x[1]), reverse=True)[:100]\n",
    "str_neg_ol= ''\n",
    "str_pos_ol = ''\n",
    "for i in list_feat_ol:\n",
    "    if i[1] >0:\n",
    "        for j in range(int(i[1])):\n",
    "            str_pos_ol += i[0] + ' '\n",
    "    else:\n",
    "        for j in range(np.abs(int(i[1]))):\n",
    "            str_neg_ol += i[0] + ' '\n",
    "f = open('pos_ol.txt','w')\n",
    "f.write(str_pos_ol) \n",
    "f.close()\n",
    "f = open('neg_ol.txt','w')\n",
    "f.write(str_neg_ol) \n",
    "f.close()"
   ]
  },
  {
   "cell_type": "markdown",
   "metadata": {},
   "source": [
    "The wordclouds below can give us a visual representation of the positive and negative aspect of these two brands. On the left we have a representation of the negative aspects of Nikon and on the right we have the positive aspects of the Olympus. Top areas of opportunity jump out for Nikon as redeye, batteries, outdoor, support, and write[time]. On the other hand, the positive aspects for Olympus jump out as rechargeable, intuitive, and compact. A mere glance at these two wordclouds give good insight into the strengths and weaknesses of these two brands. "
   ]
  },
  {
   "cell_type": "code",
   "execution_count": 115,
   "metadata": {
    "collapsed": false
   },
   "outputs": [
    {
     "data": {
      "image/png": "[encoded data removed]",
      "text/plain": [
       "<matplotlib.figure.Figure at 0x1fe894a8>"
      ]
     },
     "metadata": {},
     "output_type": "display_data"
    }
   ],
   "source": [
    "#wordcloud \n",
    "#wordcloud package is downloaded from https://github.com/amueller/word_cloud\n",
    "fig, ax = plt.subplots(nrows = 1, ncols= 2,  figsize=(20,20))\n",
    "list_ax = []\n",
    "\n",
    "filenames = ['neg_nikon.txt', 'pos_ol.txt']\n",
    "for i in range(2):          \n",
    "    # Read the whole text.\n",
    "    text = open(filenames[i]).read()\n",
    "    # Generate a word cloud image\n",
    "    wordcloud = WordCloud(max_font_size=40).generate(text)    \n",
    "    list_ax.append(ax[i].imshow(wordcloud, cmap=plt.get_cmap('gray')))\n",
    "\n",
    "#plt.figure()\n",
    "#plt.imshow(wordcloud)\n",
    "#plt.axis(\"off\")\n",
    "plt.show()"
   ]
  },
  {
   "cell_type": "markdown",
   "metadata": {},
   "source": [
    "## Conclusion\n",
    "\n",
    "Quantifying sentiment is a multi-faceted challenge. Performing data science on text data presents new and unique obstacles which require creative thinking and research to identify solutions. For this project, we had the opportunity to learn two feature selection approaches: selection based on ranking (chi-square and info gain), and selection based on how well they work with classifiers (orthogonal matching pursuit). We also brought in knowledge we gained throughout the semester such as utilizing different classification algorithms and performing grid search to find best model parameters to this project. We concluded this project with our business goal in mind, which is to build a superior model to predict negative reviews, and we were able to achieve this goal and take a closer look at the top features for specific camera brands in the last section. \n",
    "\n",
    "We had a fantastic experience working on this text classification challenge and we both look forward to taking what we learned how to do (and what not to do!) forward in future projects! Many thanks to Professor Kolter, Eric and Dhivya for an amazing semester!"
   ]
  }
 ],
 "metadata": {
  "anaconda-cloud": {},
  "kernelspec": {
   "display_name": "Python [Root]",
   "language": "python",
   "name": "Python [Root]"
  },
  "language_info": {
   "codemirror_mode": {
    "name": "ipython",
    "version": 2
   },
   "file_extension": ".py",
   "mimetype": "text/x-python",
   "name": "python",
   "nbconvert_exporter": "python",
   "pygments_lexer": "ipython2",
   "version": "2.7.12"
  }
 },
 "nbformat": 4,
 "nbformat_minor": 0
}
